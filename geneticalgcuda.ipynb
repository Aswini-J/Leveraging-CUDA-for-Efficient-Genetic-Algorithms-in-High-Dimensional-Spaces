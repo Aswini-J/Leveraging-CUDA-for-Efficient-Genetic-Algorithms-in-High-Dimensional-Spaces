{
  "cells": [
    {
      "cell_type": "markdown",
      "metadata": {
        "id": "view-in-github",
        "colab_type": "text"
      },
      "source": [
        "<a href=\"https://colab.research.google.com/github/Aswini-J/Leveraging-CUDA-for-Efficient-Genetic-Algorithms-in-High-Dimensional-Spaces/blob/main/geneticalgcuda.ipynb\" target=\"_parent\"><img src=\"https://colab.research.google.com/assets/colab-badge.svg\" alt=\"Open In Colab\"/></a>"
      ]
    },
    {
      "cell_type": "code",
      "execution_count": 1,
      "metadata": {
        "collapsed": true,
        "id": "rbdTlgsxnRNZ",
        "colab": {
          "base_uri": "https://localhost:8080/"
        },
        "outputId": "e6339b50-7ed5-4101-8a43-139bc2cddf6a"
      },
      "outputs": [
        {
          "output_type": "stream",
          "name": "stdout",
          "text": [
            "Collecting git+https://github.com/andreinechaev/nvcc4jupyter.git\n",
            "  Cloning https://github.com/andreinechaev/nvcc4jupyter.git to /tmp/pip-req-build-5opvl51y\n",
            "  Running command git clone --filter=blob:none --quiet https://github.com/andreinechaev/nvcc4jupyter.git /tmp/pip-req-build-5opvl51y\n",
            "  Resolved https://github.com/andreinechaev/nvcc4jupyter.git to commit 28f872a2f99a1b201bcd0db14fdbc5a496b9bfd7\n",
            "  Installing build dependencies ... \u001b[?25l\u001b[?25hdone\n",
            "  Getting requirements to build wheel ... \u001b[?25l\u001b[?25hdone\n",
            "  Preparing metadata (pyproject.toml) ... \u001b[?25l\u001b[?25hdone\n",
            "Building wheels for collected packages: nvcc4jupyter\n",
            "  Building wheel for nvcc4jupyter (pyproject.toml) ... \u001b[?25l\u001b[?25hdone\n",
            "  Created wheel for nvcc4jupyter: filename=nvcc4jupyter-1.2.1-py3-none-any.whl size=10743 sha256=3a570d3ab74e9051a615aa78d54722c78a69a0c83a1d407fccde14c37a30e96c\n",
            "  Stored in directory: /tmp/pip-ephem-wheel-cache-ugke1see/wheels/a8/b9/18/23f8ef71ceb0f63297dd1903aedd067e6243a68ea756d6feea\n",
            "Successfully built nvcc4jupyter\n",
            "Installing collected packages: nvcc4jupyter\n",
            "Successfully installed nvcc4jupyter-1.2.1\n",
            "Detected platform \"Colab\". Running its setup...\n",
            "Source files will be saved in \"/tmp/tmpg0uufaaw\".\n"
          ]
        }
      ],
      "source": [
        "!pip install git+https://github.com/andreinechaev/nvcc4jupyter.git\n",
        "%load_ext nvcc4jupyter"
      ]
    },
    {
      "cell_type": "code",
      "execution_count": 2,
      "metadata": {
        "colab": {
          "base_uri": "https://localhost:8080/"
        },
        "collapsed": true,
        "id": "i_Vyaxtxvgno",
        "outputId": "e93dc079-f90d-4135-8a0f-af0015c7abf4"
      },
      "outputs": [
        {
          "output_type": "stream",
          "name": "stdout",
          "text": [
            "nvcc: NVIDIA (R) Cuda compiler driver\n",
            "Copyright (c) 2005-2023 NVIDIA Corporation\n",
            "Built on Tue_Aug_15_22:02:13_PDT_2023\n",
            "Cuda compilation tools, release 12.2, V12.2.140\n",
            "Build cuda_12.2.r12.2/compiler.33191640_0\n"
          ]
        }
      ],
      "source": [
        "!nvcc --version\n"
      ]
    },
    {
      "cell_type": "code",
      "execution_count": 3,
      "metadata": {
        "colab": {
          "base_uri": "https://localhost:8080/"
        },
        "id": "EmMDySwUvnE_",
        "outputId": "35568e53-a0e2-48d5-f121-cbaf54fa7896"
      },
      "outputs": [
        {
          "output_type": "stream",
          "name": "stdout",
          "text": [
            "The nvcc4jupyter extension is already loaded. To reload it, use:\n",
            "  %reload_ext nvcc4jupyter\n"
          ]
        }
      ],
      "source": [
        "%load_ext nvcc4jupyter"
      ]
    },
    {
      "cell_type": "code",
      "execution_count": 4,
      "metadata": {
        "colab": {
          "base_uri": "https://localhost:8080/"
        },
        "id": "MLQNqdIu_IvL",
        "outputId": "ee255cfe-58be-43f2-c5bc-10552aad5e99"
      },
      "outputs": [
        {
          "output_type": "stream",
          "name": "stdout",
          "text": [
            "File does not exist!\n"
          ]
        }
      ],
      "source": [
        "from pathlib import Path\n",
        "\n",
        "file_path = Path('/absolute/path/to/images.jpeg')\n",
        "if file_path.exists():\n",
        "    print(\"File exists!\")\n",
        "else:\n",
        "    print(\"File does not exist!\")\n"
      ]
    },
    {
      "cell_type": "code",
      "execution_count": 5,
      "metadata": {
        "colab": {
          "base_uri": "https://localhost:8080/"
        },
        "id": "cB123f5u_Rs8",
        "outputId": "a0a9ca77-56d7-4dbf-9079-0e60999a2320"
      },
      "outputs": [
        {
          "output_type": "stream",
          "name": "stdout",
          "text": [
            "Current Working Directory: /content\n"
          ]
        }
      ],
      "source": [
        "import os\n",
        "print(\"Current Working Directory:\", os.getcwd())"
      ]
    },
    {
      "cell_type": "code",
      "execution_count": 6,
      "metadata": {
        "colab": {
          "base_uri": "https://localhost:8080/",
          "height": 44
        },
        "id": "y2czKyN-_acQ",
        "outputId": "f97ca79b-2153-4705-e2ee-025b2028d850"
      },
      "outputs": [
        {
          "output_type": "display_data",
          "data": {
            "text/plain": [
              "<IPython.core.display.HTML object>"
            ],
            "text/html": [
              "\n",
              "     <input type=\"file\" id=\"files-e349b1ea-24dc-43d3-92b1-8f5c15982138\" name=\"files[]\" multiple disabled\n",
              "        style=\"border:none\" />\n",
              "     <output id=\"result-e349b1ea-24dc-43d3-92b1-8f5c15982138\">\n",
              "      Upload widget is only available when the cell has been executed in the\n",
              "      current browser session. Please rerun this cell to enable.\n",
              "      </output>\n",
              "      <script>// Copyright 2017 Google LLC\n",
              "//\n",
              "// Licensed under the Apache License, Version 2.0 (the \"License\");\n",
              "// you may not use this file except in compliance with the License.\n",
              "// You may obtain a copy of the License at\n",
              "//\n",
              "//      http://www.apache.org/licenses/LICENSE-2.0\n",
              "//\n",
              "// Unless required by applicable law or agreed to in writing, software\n",
              "// distributed under the License is distributed on an \"AS IS\" BASIS,\n",
              "// WITHOUT WARRANTIES OR CONDITIONS OF ANY KIND, either express or implied.\n",
              "// See the License for the specific language governing permissions and\n",
              "// limitations under the License.\n",
              "\n",
              "/**\n",
              " * @fileoverview Helpers for google.colab Python module.\n",
              " */\n",
              "(function(scope) {\n",
              "function span(text, styleAttributes = {}) {\n",
              "  const element = document.createElement('span');\n",
              "  element.textContent = text;\n",
              "  for (const key of Object.keys(styleAttributes)) {\n",
              "    element.style[key] = styleAttributes[key];\n",
              "  }\n",
              "  return element;\n",
              "}\n",
              "\n",
              "// Max number of bytes which will be uploaded at a time.\n",
              "const MAX_PAYLOAD_SIZE = 100 * 1024;\n",
              "\n",
              "function _uploadFiles(inputId, outputId) {\n",
              "  const steps = uploadFilesStep(inputId, outputId);\n",
              "  const outputElement = document.getElementById(outputId);\n",
              "  // Cache steps on the outputElement to make it available for the next call\n",
              "  // to uploadFilesContinue from Python.\n",
              "  outputElement.steps = steps;\n",
              "\n",
              "  return _uploadFilesContinue(outputId);\n",
              "}\n",
              "\n",
              "// This is roughly an async generator (not supported in the browser yet),\n",
              "// where there are multiple asynchronous steps and the Python side is going\n",
              "// to poll for completion of each step.\n",
              "// This uses a Promise to block the python side on completion of each step,\n",
              "// then passes the result of the previous step as the input to the next step.\n",
              "function _uploadFilesContinue(outputId) {\n",
              "  const outputElement = document.getElementById(outputId);\n",
              "  const steps = outputElement.steps;\n",
              "\n",
              "  const next = steps.next(outputElement.lastPromiseValue);\n",
              "  return Promise.resolve(next.value.promise).then((value) => {\n",
              "    // Cache the last promise value to make it available to the next\n",
              "    // step of the generator.\n",
              "    outputElement.lastPromiseValue = value;\n",
              "    return next.value.response;\n",
              "  });\n",
              "}\n",
              "\n",
              "/**\n",
              " * Generator function which is called between each async step of the upload\n",
              " * process.\n",
              " * @param {string} inputId Element ID of the input file picker element.\n",
              " * @param {string} outputId Element ID of the output display.\n",
              " * @return {!Iterable<!Object>} Iterable of next steps.\n",
              " */\n",
              "function* uploadFilesStep(inputId, outputId) {\n",
              "  const inputElement = document.getElementById(inputId);\n",
              "  inputElement.disabled = false;\n",
              "\n",
              "  const outputElement = document.getElementById(outputId);\n",
              "  outputElement.innerHTML = '';\n",
              "\n",
              "  const pickedPromise = new Promise((resolve) => {\n",
              "    inputElement.addEventListener('change', (e) => {\n",
              "      resolve(e.target.files);\n",
              "    });\n",
              "  });\n",
              "\n",
              "  const cancel = document.createElement('button');\n",
              "  inputElement.parentElement.appendChild(cancel);\n",
              "  cancel.textContent = 'Cancel upload';\n",
              "  const cancelPromise = new Promise((resolve) => {\n",
              "    cancel.onclick = () => {\n",
              "      resolve(null);\n",
              "    };\n",
              "  });\n",
              "\n",
              "  // Wait for the user to pick the files.\n",
              "  const files = yield {\n",
              "    promise: Promise.race([pickedPromise, cancelPromise]),\n",
              "    response: {\n",
              "      action: 'starting',\n",
              "    }\n",
              "  };\n",
              "\n",
              "  cancel.remove();\n",
              "\n",
              "  // Disable the input element since further picks are not allowed.\n",
              "  inputElement.disabled = true;\n",
              "\n",
              "  if (!files) {\n",
              "    return {\n",
              "      response: {\n",
              "        action: 'complete',\n",
              "      }\n",
              "    };\n",
              "  }\n",
              "\n",
              "  for (const file of files) {\n",
              "    const li = document.createElement('li');\n",
              "    li.append(span(file.name, {fontWeight: 'bold'}));\n",
              "    li.append(span(\n",
              "        `(${file.type || 'n/a'}) - ${file.size} bytes, ` +\n",
              "        `last modified: ${\n",
              "            file.lastModifiedDate ? file.lastModifiedDate.toLocaleDateString() :\n",
              "                                    'n/a'} - `));\n",
              "    const percent = span('0% done');\n",
              "    li.appendChild(percent);\n",
              "\n",
              "    outputElement.appendChild(li);\n",
              "\n",
              "    const fileDataPromise = new Promise((resolve) => {\n",
              "      const reader = new FileReader();\n",
              "      reader.onload = (e) => {\n",
              "        resolve(e.target.result);\n",
              "      };\n",
              "      reader.readAsArrayBuffer(file);\n",
              "    });\n",
              "    // Wait for the data to be ready.\n",
              "    let fileData = yield {\n",
              "      promise: fileDataPromise,\n",
              "      response: {\n",
              "        action: 'continue',\n",
              "      }\n",
              "    };\n",
              "\n",
              "    // Use a chunked sending to avoid message size limits. See b/62115660.\n",
              "    let position = 0;\n",
              "    do {\n",
              "      const length = Math.min(fileData.byteLength - position, MAX_PAYLOAD_SIZE);\n",
              "      const chunk = new Uint8Array(fileData, position, length);\n",
              "      position += length;\n",
              "\n",
              "      const base64 = btoa(String.fromCharCode.apply(null, chunk));\n",
              "      yield {\n",
              "        response: {\n",
              "          action: 'append',\n",
              "          file: file.name,\n",
              "          data: base64,\n",
              "        },\n",
              "      };\n",
              "\n",
              "      let percentDone = fileData.byteLength === 0 ?\n",
              "          100 :\n",
              "          Math.round((position / fileData.byteLength) * 100);\n",
              "      percent.textContent = `${percentDone}% done`;\n",
              "\n",
              "    } while (position < fileData.byteLength);\n",
              "  }\n",
              "\n",
              "  // All done.\n",
              "  yield {\n",
              "    response: {\n",
              "      action: 'complete',\n",
              "    }\n",
              "  };\n",
              "}\n",
              "\n",
              "scope.google = scope.google || {};\n",
              "scope.google.colab = scope.google.colab || {};\n",
              "scope.google.colab._files = {\n",
              "  _uploadFiles,\n",
              "  _uploadFilesContinue,\n",
              "};\n",
              "})(self);\n",
              "</script> "
            ]
          },
          "metadata": {}
        }
      ],
      "source": [
        "from google.colab import files\n",
        "uploaded = files.upload()"
      ]
    },
    {
      "cell_type": "code",
      "execution_count": 7,
      "metadata": {
        "colab": {
          "base_uri": "https://localhost:8080/"
        },
        "id": "o_7LK3gf_mfX",
        "outputId": "96bae0b9-4349-444a-b1cc-351f0a5c62ee"
      },
      "outputs": [
        {
          "output_type": "stream",
          "name": "stdout",
          "text": [
            "File does not exist!\n"
          ]
        }
      ],
      "source": [
        "from pathlib import Path\n",
        "\n",
        "# Assuming the file is in the same directory as the notebook\n",
        "file_path = Path('images.jpeg')\n",
        "if file_path.exists():\n",
        "    print(\"File exists!\")\n",
        "else:\n",
        "    print(\"File does not exist!\")\n"
      ]
    },
    {
      "cell_type": "code",
      "execution_count": 8,
      "metadata": {
        "colab": {
          "base_uri": "https://localhost:8080/",
          "height": 38
        },
        "id": "_k0ELR2HA5_F",
        "outputId": "7d7b476a-4ef3-4de6-c56e-81e3e26c0aff"
      },
      "outputs": [
        {
          "output_type": "execute_result",
          "data": {
            "text/plain": [
              "'/content'"
            ],
            "application/vnd.google.colaboratory.intrinsic+json": {
              "type": "string"
            }
          },
          "metadata": {},
          "execution_count": 8
        }
      ],
      "source": [
        "pwd\n"
      ]
    },
    {
      "cell_type": "code",
      "execution_count": 50,
      "metadata": {
        "id": "25KHtvsQXB9_",
        "colab": {
          "base_uri": "https://localhost:8080/"
        },
        "outputId": "49b6bdbf-f314-4b79-c683-2a4d964f33d3"
      },
      "outputs": [
        {
          "output_type": "stream",
          "name": "stdout",
          "text": [
            "Overwriting ga_cuda.cu\n"
          ]
        }
      ],
      "source": [
        "%%writefile ga_cuda.cu\n",
        "#include <iostream>\n",
        "#include <curand.h>\n",
        "#include <curand_kernel.h>\n",
        "\n",
        "// Function to optimize (High-Dimensional Sphere Function)\n",
        "__device__ float fitness_function(float* individual, int dimensions) {\n",
        "    float fitness = 0.0f;\n",
        "    for (int i = 0; i < dimensions; ++i) {\n",
        "        fitness += individual[i] * individual[i];  // Example: Sphere function\n",
        "    }\n",
        "    return fitness;\n",
        "}\n",
        "\n",
        "// CUDA kernel to evaluate the fitness of each individual in the population\n",
        "__global__ void evaluate_population(float* population, float* fitness_values, int population_size, int dimensions) {\n",
        "    int idx = blockIdx.x * blockDim.x + threadIdx.x;\n",
        "    if (idx < population_size) {\n",
        "        fitness_values[idx] = fitness_function(&population[idx * dimensions], dimensions);\n",
        "    }\n",
        "}\n",
        "__global__ void crossover(float* population, float* new_population, int population_size, int dimensions, float crossover_rate, curandState* rand_states) {\n",
        "    int idx = blockIdx.x * blockDim.x + threadIdx.x;\n",
        "    if (idx < population_size) {\n",
        "        int parent1_idx = idx * 2;\n",
        "        int parent2_idx = parent1_idx + 1;\n",
        "\n",
        "        for (int i = 0; i < dimensions; ++i) {\n",
        "            float r = curand_uniform(&rand_states[idx]);\n",
        "            if (r < crossover_rate) {\n",
        "                new_population[idx * dimensions + i] = 0.5f * (population[parent1_idx * dimensions + i] + population[parent2_idx * dimensions + i]);\n",
        "            } else {\n",
        "                new_population[idx * dimensions + i] = population[parent1_idx * dimensions + i];\n",
        "            }\n",
        "        }\n",
        "    }\n",
        "}\n",
        "\n",
        "__global__ void mutate(float* population, int population_size, int dimensions, float mutation_rate, curandState* rand_states) {\n",
        "    int idx = blockIdx.x * blockDim.x + threadIdx.x;\n",
        "    if (idx < population_size) {\n",
        "        for (int i = 0; i < dimensions; ++i) {\n",
        "            float r = curand_uniform(&rand_states[idx]);\n",
        "            if (r < mutation_rate) {\n",
        "                population[idx * dimensions + i] += curand_normal(&rand_states[idx]) * 0.1f;\n",
        "            }\n",
        "        }\n",
        "    }\n",
        "}\n",
        "__global__ void init_rand_states(curandState* rand_states, int population_size, unsigned long seed) {\n",
        "    int idx = blockIdx.x * blockDim.x + threadIdx.x;\n",
        "    if (idx < population_size) {\n",
        "        curand_init(seed, idx, 0, &rand_states[idx]);\n",
        "    }\n",
        "}\n",
        "int main() {\n",
        "    const int population_size = 1024;\n",
        "    const int dimensions = 100;  // High-dimensional space\n",
        "    const int generations = 1000;\n",
        "    const float crossover_rate = 0.7f;\n",
        "    const float mutation_rate = 0.01f;\n",
        "\n",
        "    // Allocate memory for the population and fitness values\n",
        "    float* population;\n",
        "    float* new_population;\n",
        "    float* fitness_values;\n",
        "    curandState* rand_states;\n",
        "\n",
        "    cudaMalloc(&population, population_size * dimensions * sizeof(float));\n",
        "    cudaMalloc(&new_population, population_size * dimensions * sizeof(float));\n",
        "    cudaMalloc(&fitness_values, population_size * sizeof(float));\n",
        "    cudaMalloc(&rand_states, population_size * sizeof(curandState));\n",
        "\n",
        "    // Initialize random states for CUDA\n",
        "    init_rand_states<<<(population_size + 255) / 256, 256>>>(rand_states, population_size, time(0));\n",
        "\n",
        "    // Main Genetic Algorithm loop\n",
        "    for (int gen = 0; gen < generations; ++gen) {\n",
        "        // Evaluate the fitness of the population\n",
        "        evaluate_population<<<(population_size + 255) / 256, 256>>>(population, fitness_values, population_size, dimensions);\n",
        "        cudaDeviceSynchronize();\n",
        "\n",
        "        // Perform crossover\n",
        "        crossover<<<(population_size + 255) / 256, 256>>>(population, new_population, population_size / 2, dimensions, crossover_rate, rand_states);\n",
        "        cudaDeviceSynchronize();\n",
        "\n",
        "        // Mutate the new population\n",
        "        mutate<<<(population_size + 255) / 256, 256>>>(new_population, population_size, dimensions, mutation_rate, rand_states);\n",
        "        cudaDeviceSynchronize();\n",
        "\n",
        "        // Swap populations\n",
        "        std::swap(population, new_population);\n",
        "    }\n",
        "\n",
        "    // Cleanup\n",
        "    cudaFree(population);\n",
        "    cudaFree(new_population);\n",
        "    cudaFree(fitness_values);\n",
        "    cudaFree(rand_states);\n",
        "\n",
        "    return 0;\n",
        "}\n"
      ]
    },
    {
      "cell_type": "code",
      "execution_count": 51,
      "metadata": {
        "id": "a-juHrdMV5Q1"
      },
      "outputs": [],
      "source": [
        "!nvcc ga_cuda.cu -o ga_cuda\n"
      ]
    },
    {
      "cell_type": "code",
      "execution_count": 12,
      "metadata": {
        "id": "T09jBiloV7SK"
      },
      "outputs": [],
      "source": [
        "!./ga_cuda\n"
      ]
    },
    {
      "cell_type": "code",
      "source": [
        "ls\n"
      ],
      "metadata": {
        "colab": {
          "base_uri": "https://localhost:8080/"
        },
        "id": "YScMjvEKzLNM",
        "outputId": "dd53a22b-4f94-48fb-ff1d-8ac37d434254"
      },
      "execution_count": 14,
      "outputs": [
        {
          "output_type": "stream",
          "name": "stdout",
          "text": [
            "\u001b[0m\u001b[01;32mga_cuda\u001b[0m*  ga_cuda.cu  \u001b[01;34msample_data\u001b[0m/\n"
          ]
        }
      ]
    },
    {
      "cell_type": "code",
      "source": [
        "cd sample_data/"
      ],
      "metadata": {
        "colab": {
          "base_uri": "https://localhost:8080/"
        },
        "id": "MXBfTut9zP1b",
        "outputId": "ea4bb4d8-909f-4d79-de31-33440c605ffa"
      },
      "execution_count": 15,
      "outputs": [
        {
          "output_type": "stream",
          "name": "stdout",
          "text": [
            "/content/sample_data\n"
          ]
        }
      ]
    },
    {
      "cell_type": "code",
      "source": [
        "ls\n"
      ],
      "metadata": {
        "colab": {
          "base_uri": "https://localhost:8080/"
        },
        "id": "5eufGIGVzUjQ",
        "outputId": "4e9d6b91-082b-48fd-88e4-36bed10f3205"
      },
      "execution_count": 16,
      "outputs": [
        {
          "output_type": "stream",
          "name": "stdout",
          "text": [
            "\u001b[0m\u001b[01;32manscombe.json\u001b[0m*               california_housing_train.csv  mnist_train_small.csv\n",
            "california_housing_test.csv  mnist_test.csv                \u001b[01;32mREADME.md\u001b[0m*\n"
          ]
        }
      ]
    },
    {
      "cell_type": "code",
      "source": [
        "from google.colab import drive\n",
        "drive.mount('/content/drive')"
      ],
      "metadata": {
        "colab": {
          "base_uri": "https://localhost:8080/"
        },
        "id": "2UzrFf_6y_XK",
        "outputId": "f92eb969-893e-4c60-bfac-98d749673ee0"
      },
      "execution_count": 17,
      "outputs": [
        {
          "output_type": "stream",
          "name": "stdout",
          "text": [
            "Mounted at /content/drive\n"
          ]
        }
      ]
    },
    {
      "cell_type": "code",
      "source": [
        "import os\n",
        "\n",
        "drive_folder = '/content/drive/MyDrive/CUDA_GA_Project'\n",
        "if not os.path.exists(drive_folder):\n",
        "    os.makedirs(drive_folder)\n",
        "    print(f\"Created directory: {drive_folder}\")\n",
        "else:\n",
        "    print(f\"Directory already exists: {drive_folder}\")\n"
      ],
      "metadata": {
        "colab": {
          "base_uri": "https://localhost:8080/"
        },
        "id": "o3Xtk6qkzJmS",
        "outputId": "c18e8319-ada0-4c77-e770-32c042ebb3cf"
      },
      "execution_count": 18,
      "outputs": [
        {
          "output_type": "stream",
          "name": "stdout",
          "text": [
            "Created directory: /content/drive/MyDrive/CUDA_GA_Project\n"
          ]
        }
      ]
    },
    {
      "cell_type": "code",
      "source": [
        "%%writefile ga_cuda.cu\n",
        "#include <iostream>\n",
        "#include <curand.h>\n",
        "#include <curand_kernel.h>\n",
        "\n",
        "// Function to optimize (High-Dimensional Sphere Function)\n",
        "__device__ float fitness_function(float* individual, int dimensions) {\n",
        "    float fitness = 0.0f;\n",
        "    for (int i = 0; i < dimensions; ++i) {\n",
        "        fitness += individual[i] * individual[i];  // Example: Sphere function\n",
        "    }\n",
        "    return fitness;\n",
        "}\n",
        "\n",
        "// CUDA kernel to evaluate the fitness of each individual in the population\n",
        "__global__ void evaluate_population(float* population, float* fitness_values, int population_size, int dimensions) {\n",
        "    int idx = blockIdx.x * blockDim.x + threadIdx.x;\n",
        "    if (idx < population_size) {\n",
        "        fitness_values[idx] = fitness_function(&population[idx * dimensions], dimensions);\n",
        "    }\n",
        "}\n",
        "__global__ void crossover(float* population, float* new_population, int population_size, int dimensions, float crossover_rate, curandState* rand_states) {\n",
        "    int idx = blockIdx.x * blockDim.x + threadIdx.x;\n",
        "    if (idx < population_size) {\n",
        "        int parent1_idx = idx * 2;\n",
        "        int parent2_idx = parent1_idx + 1;\n",
        "\n",
        "        for (int i = 0; i < dimensions; ++i) {\n",
        "            float r = curand_uniform(&rand_states[idx]);\n",
        "            if (r < crossover_rate) {\n",
        "                new_population[idx * dimensions + i] = 0.5f * (population[parent1_idx * dimensions + i] + population[parent2_idx * dimensions + i]);\n",
        "            } else {\n",
        "                new_population[idx * dimensions + i] = population[parent1_idx * dimensions + i];\n",
        "            }\n",
        "        }\n",
        "    }\n",
        "}\n",
        "\n",
        "__global__ void mutate(float* population, int population_size, int dimensions, float mutation_rate, curandState* rand_states) {\n",
        "    int idx = blockIdx.x * blockDim.x + threadIdx.x;\n",
        "    if (idx < population_size) {\n",
        "        for (int i = 0; i < dimensions; ++i) {\n",
        "            float r = curand_uniform(&rand_states[idx]);\n",
        "            if (r < mutation_rate) {\n",
        "                population[idx * dimensions + i] += curand_normal(&rand_states[idx]) * 0.1f;\n",
        "            }\n",
        "        }\n",
        "    }\n",
        "}\n",
        "__global__ void init_rand_states(curandState* rand_states, int population_size, unsigned long seed) {\n",
        "    int idx = blockIdx.x * blockDim.x + threadIdx.x;\n",
        "    if (idx < population_size) {\n",
        "        curand_init(seed, idx, 0, &rand_states[idx]);\n",
        "    }\n",
        "}\n",
        "int main() {\n",
        "    const int population_size = 1024;\n",
        "    const int dimensions = 100;  // High-dimensional space\n",
        "    const int generations = 1000;\n",
        "    const float crossover_rate = 0.7f;\n",
        "    const float mutation_rate = 0.01f;\n",
        "\n",
        "    // Allocate memory for the population and fitness values\n",
        "    float* population;\n",
        "    float* new_population;\n",
        "    float* fitness_values;\n",
        "    curandState* rand_states;\n",
        "\n",
        "    cudaMalloc(&population, population_size * dimensions * sizeof(float));\n",
        "    cudaMalloc(&new_population, population_size * dimensions * sizeof(float));\n",
        "    cudaMalloc(&fitness_values, population_size * sizeof(float));\n",
        "    cudaMalloc(&rand_states, population_size * sizeof(curandState));\n",
        "\n",
        "    // Initialize random states for CUDA\n",
        "    init_rand_states<<<(population_size + 255) / 256, 256>>>(rand_states, population_size, time(0));\n",
        "\n",
        "    // Main Genetic Algorithm loop\n",
        "    for (int gen = 0; gen < generations; ++gen) {\n",
        "        // Evaluate the fitness of the population\n",
        "        evaluate_population<<<(population_size + 255) / 256, 256>>>(population, fitness_values, population_size, dimensions);\n",
        "        cudaDeviceSynchronize();\n",
        "\n",
        "        // Perform crossover\n",
        "        crossover<<<(population_size + 255) / 256, 256>>>(population, new_population, population_size / 2, dimensions, crossover_rate, rand_states);\n",
        "        cudaDeviceSynchronize();\n",
        "\n",
        "        // Mutate the new population\n",
        "        mutate<<<(population_size + 255) / 256, 256>>>(new_population, population_size, dimensions, mutation_rate, rand_states);\n",
        "        cudaDeviceSynchronize();\n",
        "\n",
        "        // Swap populations\n",
        "        std::swap(population, new_population);\n",
        "    }\n",
        "\n",
        "    // Cleanup\n",
        "    cudaFree(population);\n",
        "    cudaFree(new_population);\n",
        "    cudaFree(fitness_values);\n",
        "    cudaFree(rand_states);\n",
        "\n",
        "    return 0;\n",
        "}\n"
      ],
      "metadata": {
        "colab": {
          "base_uri": "https://localhost:8080/"
        },
        "id": "sMEUTe0i1W4W",
        "outputId": "1fe899c6-d1ac-4a31-beff-978924af2e81"
      },
      "execution_count": 19,
      "outputs": [
        {
          "output_type": "stream",
          "name": "stdout",
          "text": [
            "Writing ga_cuda.cu\n"
          ]
        }
      ]
    },
    {
      "cell_type": "code",
      "source": [],
      "metadata": {
        "id": "XMT1_uq54Dew"
      },
      "execution_count": null,
      "outputs": []
    },
    {
      "cell_type": "code",
      "source": [
        "!nvcc ga_cuda.cu -o ga_cuda\n"
      ],
      "metadata": {
        "id": "TLXlcvN91k6u"
      },
      "execution_count": 20,
      "outputs": []
    },
    {
      "cell_type": "code",
      "source": [
        "!./ga_cuda\n"
      ],
      "metadata": {
        "id": "FPaHNR5m1qwn"
      },
      "execution_count": 21,
      "outputs": []
    },
    {
      "cell_type": "code",
      "source": [
        "import os\n",
        "\n",
        "file_path = '/content/drive/MyDrive/CUDA_GA_Project/fitness_values.csv'\n",
        "if os.path.exists(file_path):\n",
        "    print(\"File exists.\")\n",
        "else:\n",
        "    print(\"File does not exist. Check the C++ program for errors.\")\n"
      ],
      "metadata": {
        "colab": {
          "base_uri": "https://localhost:8080/"
        },
        "id": "HhtktpIj1xAV",
        "outputId": "349fe9f6-22e6-4e31-f6d3-edf7825208fe"
      },
      "execution_count": 24,
      "outputs": [
        {
          "output_type": "stream",
          "name": "stdout",
          "text": [
            "File does not exist. Check the C++ program for errors.\n"
          ]
        }
      ]
    },
    {
      "cell_type": "code",
      "source": [
        "import os\n",
        "\n",
        "drive_folder = '/content/drive/MyDrive/CUDA_GA_Project'\n",
        "files = os.listdir(drive_folder)\n",
        "print(\"Files in CUDA_GA_Project directory:\")\n",
        "for file in files:\n",
        "    print(file)\n"
      ],
      "metadata": {
        "colab": {
          "base_uri": "https://localhost:8080/"
        },
        "id": "Cfga1CZA2Bbm",
        "outputId": "0c711dd4-f795-4b31-a8b0-b2894c78606e"
      },
      "execution_count": 23,
      "outputs": [
        {
          "output_type": "stream",
          "name": "stdout",
          "text": [
            "Files in CUDA_GA_Project directory:\n"
          ]
        }
      ]
    },
    {
      "cell_type": "code",
      "source": [
        "cd /content/drive/MyDrive/CUDA_GA_Project/"
      ],
      "metadata": {
        "colab": {
          "base_uri": "https://localhost:8080/"
        },
        "id": "Q03_GxDc2gyT",
        "outputId": "8e3310dc-32c9-43ed-d700-2766b186ea72"
      },
      "execution_count": 27,
      "outputs": [
        {
          "output_type": "stream",
          "name": "stdout",
          "text": [
            "/content/drive/MyDrive/CUDA_GA_Project\n"
          ]
        }
      ]
    },
    {
      "cell_type": "code",
      "source": [
        "pwd"
      ],
      "metadata": {
        "colab": {
          "base_uri": "https://localhost:8080/",
          "height": 38
        },
        "id": "LGZyVlfA20HK",
        "outputId": "280da1f9-f91c-4754-c8ce-06ac5fca234c"
      },
      "execution_count": 30,
      "outputs": [
        {
          "output_type": "execute_result",
          "data": {
            "text/plain": [
              "'/content/drive/MyDrive/CUDA_GA_Project'"
            ],
            "application/vnd.google.colaboratory.intrinsic+json": {
              "type": "string"
            }
          },
          "metadata": {},
          "execution_count": 30
        }
      ]
    },
    {
      "cell_type": "code",
      "source": [
        "import os\n",
        "\n",
        "# Print current working directory\n",
        "print(os.getcwd())\n",
        "\n",
        "# List the contents of the directory\n",
        "print(os.listdir())\n"
      ],
      "metadata": {
        "colab": {
          "base_uri": "https://localhost:8080/"
        },
        "id": "COUFzClg3Dl6",
        "outputId": "9913335f-f109-44d1-c31a-9a1265d01f6f"
      },
      "execution_count": 32,
      "outputs": [
        {
          "output_type": "stream",
          "name": "stdout",
          "text": [
            "/content/drive/MyDrive/CUDA_GA_Project\n",
            "[]\n"
          ]
        }
      ]
    },
    {
      "cell_type": "code",
      "source": [
        "ls"
      ],
      "metadata": {
        "id": "uSXTegMW22Ud"
      },
      "execution_count": 31,
      "outputs": []
    },
    {
      "cell_type": "code",
      "source": [
        "%%writefile ga_cuda.cu\n",
        "#include <iostream>\n",
        "#include <curand.h>\n",
        "#include <curand_kernel.h>\n",
        "#include <fstream>\n",
        "\n",
        "// Function to optimize (High-Dimensional Sphere Function)\n",
        "__device__ float fitness_function(float* individual, int dimensions) {\n",
        "    float fitness = 0.0f;\n",
        "    for (int i = 0; i < dimensions; ++i) {\n",
        "        fitness += individual[i] * individual[i];  // Example: Sphere function\n",
        "    }\n",
        "    return fitness;\n",
        "}\n",
        "\n",
        "// CUDA kernel to evaluate the fitness of each individual in the population\n",
        "__global__ void evaluate_population(float* population, float* fitness_values, int population_size, int dimensions) {\n",
        "    int idx = blockIdx.x * blockDim.x + threadIdx.x;\n",
        "    if (idx < population_size) {\n",
        "        fitness_values[idx] = fitness_function(&population[idx * dimensions], dimensions);\n",
        "    }\n",
        "}\n",
        "\n",
        "// CUDA kernel for crossover\n",
        "__global__ void crossover(float* population, float* new_population, int population_size, int dimensions, float crossover_rate, curandState* rand_states) {\n",
        "    int idx = blockIdx.x * blockDim.x + threadIdx.x;\n",
        "    if (idx < population_size) {\n",
        "        int parent1_idx = idx * 2;\n",
        "        int parent2_idx = parent1_idx + 1;\n",
        "\n",
        "        for (int i = 0; i < dimensions; ++i) {\n",
        "            float r = curand_uniform(&rand_states[idx]);\n",
        "            if (r < crossover_rate) {\n",
        "                new_population[idx * dimensions + i] = 0.5f * (population[parent1_idx * dimensions + i] + population[parent2_idx * dimensions + i]);\n",
        "            } else {\n",
        "                new_population[idx * dimensions + i] = population[parent1_idx * dimensions + i];\n",
        "            }\n",
        "        }\n",
        "    }\n",
        "}\n",
        "\n",
        "// CUDA kernel for mutation\n",
        "__global__ void mutate(float* population, int population_size, int dimensions, float mutation_rate, curandState* rand_states) {\n",
        "    int idx = blockIdx.x * blockDim.x + threadIdx.x;\n",
        "    if (idx < population_size) {\n",
        "        for (int i = 0; i < dimensions; ++i) {\n",
        "            float r = curand_uniform(&rand_states[idx]);\n",
        "            if (r < mutation_rate) {\n",
        "                population[idx * dimensions + i] += curand_normal(&rand_states[idx]) * 0.1f;\n",
        "            }\n",
        "        }\n",
        "    }\n",
        "}\n",
        "\n",
        "// CUDA kernel to initialize random states\n",
        "__global__ void init_rand_states(curandState* rand_states, int population_size, unsigned long seed) {\n",
        "    int idx = blockIdx.x * blockDim.x + threadIdx.x;\n",
        "    if (idx < population_size) {\n",
        "        curand_init(seed, idx, 0, &rand_states[idx]);\n",
        "    }\n",
        "}\n",
        "\n",
        "int main() {\n",
        "    const int population_size = 1024;\n",
        "    const int dimensions = 100;  // High-dimensional space\n",
        "    const int generations = 1000;\n",
        "    const float crossover_rate = 0.7f;\n",
        "    const float mutation_rate = 0.01f;\n",
        "\n",
        "    // Allocate memory for the population and fitness values\n",
        "    float* population;\n",
        "    float* new_population;\n",
        "    float* fitness_values;\n",
        "    curandState* rand_states;\n",
        "\n",
        "    cudaMalloc(&population, population_size * dimensions * sizeof(float));\n",
        "    cudaMalloc(&new_population, population_size * dimensions * sizeof(float));\n",
        "    cudaMalloc(&fitness_values, population_size * sizeof(float));\n",
        "    cudaMalloc(&rand_states, population_size * sizeof(curandState));\n",
        "\n",
        "    // Initialize random states for CUDA\n",
        "    init_rand_states<<<(population_size + 255) / 256, 256>>>(rand_states, population_size, time(0));\n",
        "\n",
        "    // Open file to save fitness values in CSV format\n",
        "    std::ofstream fitnessFile(\"/content/drive/MyDrive/CUDA_GA_Project/fitness_values.csv\");\n",
        "    fitnessFile << \"Generation,Best Fitness\\n\"; // CSV header\n",
        "\n",
        "    // Main Genetic Algorithm loop\n",
        "    for (int gen = 0; gen < generations; ++gen) {\n",
        "        // Evaluate the fitness of the population\n",
        "        evaluate_population<<<(population_size + 255) / 256, 256>>>(population, fitness_values, population_size, dimensions);\n",
        "        cudaDeviceSynchronize();\n",
        "\n",
        "        // Perform crossover\n",
        "        crossover<<<(population_size + 255) / 256, 256>>>(population, new_population, population_size / 2, dimensions, crossover_rate, rand_states);\n",
        "        cudaDeviceSynchronize();\n",
        "\n",
        "        // Mutate the new population\n",
        "        mutate<<<(population_size + 255) / 256, 256>>>(new_population, population_size, dimensions, mutation_rate, rand_states);\n",
        "        cudaDeviceSynchronize();\n",
        "\n",
        "        // Write the best fitness to the file\n",
        "        float best_fitness = INFINITY;\n",
        "        float* h_fitness_values = new float[population_size];\n",
        "        cudaMemcpy(h_fitness_values, fitness_values, population_size * sizeof(float), cudaMemcpyDeviceToHost);\n",
        "\n",
        "        for (int i = 0; i < population_size; ++i) {\n",
        "            if (h_fitness_values[i] < best_fitness) {\n",
        "                best_fitness = h_fitness_values[i];\n",
        "            }\n",
        "        }\n",
        "\n",
        "        fitnessFile << gen << \",\" << best_fitness << \"\\n\"; // Write generation and best fitness\n",
        "        delete[] h_fitness_values;\n",
        "\n",
        "        // Swap populations\n",
        "        std::swap(population, new_population);\n",
        "    }\n",
        "\n",
        "    // Cleanup\n",
        "    fitnessFile.close();\n",
        "    cudaFree(population);\n",
        "    cudaFree(new_population);\n",
        "    cudaFree(fitness_values);\n",
        "    cudaFree(rand_states);\n",
        "\n",
        "    return 0;\n",
        "}\n"
      ],
      "metadata": {
        "colab": {
          "base_uri": "https://localhost:8080/"
        },
        "id": "tMCF6j4_4Ef0",
        "outputId": "892236fd-4056-48de-e1f4-d98809ebdbc7"
      },
      "execution_count": 34,
      "outputs": [
        {
          "output_type": "stream",
          "name": "stdout",
          "text": [
            "Writing ga_cuda.cu\n"
          ]
        }
      ]
    },
    {
      "cell_type": "code",
      "source": [
        "!nvcc ga_cuda.cu -o ga_cuda\n"
      ],
      "metadata": {
        "id": "VNL1UiwV4Z2n"
      },
      "execution_count": 35,
      "outputs": []
    },
    {
      "cell_type": "code",
      "source": [
        "!./ga_cuda\n"
      ],
      "metadata": {
        "id": "J2_Y-H654fwT"
      },
      "execution_count": 37,
      "outputs": []
    },
    {
      "cell_type": "code",
      "source": [
        "import numpy as np\n",
        "from numba import cuda\n",
        "\n",
        "@cuda.jit\n",
        "def fitness_function(population, fitness_values):\n",
        "    idx = cuda.grid(1)\n",
        "    if idx < population.shape[0]:\n",
        "        fitness = 0.0\n",
        "        for i in range(population.shape[1]):\n",
        "            fitness += population[idx, i] ** 2  # Sphere function\n",
        "        fitness_values[idx] = fitness\n",
        "\n",
        "# Define population size and dimensions\n",
        "population_size = 1024\n",
        "dimensions = 100\n",
        "\n",
        "# Create random population\n",
        "population = np.random.rand(population_size, dimensions).astype(np.float32)\n",
        "fitness_values = np.zeros(population_size, dtype=np.float32)\n",
        "\n",
        "# Allocate device arrays\n",
        "d_population = cuda.to_device(population)\n",
        "d_fitness_values = cuda.to_device(fitness_values)\n",
        "\n",
        "# Define number of threads and blocks\n",
        "threads_per_block = 256\n",
        "blocks_per_grid = (population_size + (threads_per_block - 1)) // threads_per_block\n",
        "\n",
        "# Launch the kernel\n",
        "fitness_function[blocks_per_grid, threads_per_block](d_population, d_fitness_values)\n",
        "\n",
        "# Copy the result back to host\n",
        "fitness_values = d_fitness_values.copy_to_host()\n",
        "\n",
        "# Output the fitness values\n",
        "print(fitness_values)\n"
      ],
      "metadata": {
        "colab": {
          "base_uri": "https://localhost:8080/"
        },
        "id": "LbmY_9s54nSY",
        "outputId": "2ef36b6f-303e-445c-b874-209cd604d068"
      },
      "execution_count": 40,
      "outputs": [
        {
          "output_type": "stream",
          "name": "stdout",
          "text": [
            "[32.718903 35.93708  32.611954 ... 32.321564 30.50428  36.422447]\n"
          ]
        },
        {
          "output_type": "stream",
          "name": "stderr",
          "text": [
            "/usr/local/lib/python3.10/dist-packages/numba/cuda/dispatcher.py:536: NumbaPerformanceWarning: Grid size 4 will likely result in GPU under-utilization due to low occupancy.\n",
            "  warn(NumbaPerformanceWarning(msg))\n"
          ]
        }
      ]
    },
    {
      "cell_type": "code",
      "source": [
        "import numpy as np\n",
        "from numba import cuda\n",
        "\n",
        "@cuda.jit\n",
        "def fitness_function(population, fitness_values):\n",
        "    idx = cuda.grid(1)\n",
        "    if idx < population.shape[0]:\n",
        "        fitness = 0.0\n",
        "        for i in range(population.shape[1]):\n",
        "            fitness += population[idx, i] ** 2  # Sphere function\n",
        "        fitness_values[idx] = fitness\n",
        "\n",
        "# Define population size and dimensions\n",
        "population_size = 1024  # You can increase this if GPU memory allows\n",
        "dimensions = 100\n",
        "\n",
        "# Create random population\n",
        "population = np.random.rand(population_size, dimensions).astype(np.float32)\n",
        "fitness_values = np.zeros(population_size, dtype=np.float32)\n",
        "\n",
        "# Allocate device arrays\n",
        "d_population = cuda.to_device(population)\n",
        "d_fitness_values = cuda.to_device(fitness_values)\n",
        "\n",
        "# Define number of threads and blocks\n",
        "threads_per_block = 256  # This can often be 128, 256, or 512 depending on your GPU\n",
        "blocks_per_grid = (population_size + threads_per_block - 1) // threads_per_block\n",
        "\n",
        "# Ensure blocks_per_grid is sufficiently large\n",
        "blocks_per_grid = max(1, blocks_per_grid)  # Avoid zero blocks\n",
        "\n",
        "# Launch the kernel\n",
        "fitness_function[blocks_per_grid, threads_per_block](d_population, d_fitness_values)\n",
        "\n",
        "# Copy the result back to host\n",
        "fitness_values = d_fitness_values.copy_to_host()\n",
        "\n",
        "# Output the fitness values\n",
        "print(fitness_values)\n"
      ],
      "metadata": {
        "colab": {
          "base_uri": "https://localhost:8080/"
        },
        "id": "S6yBIn925l19",
        "outputId": "d3d03a20-1711-4445-80a2-ad1a898779fc"
      },
      "execution_count": 41,
      "outputs": [
        {
          "output_type": "stream",
          "name": "stdout",
          "text": [
            "[34.795376 34.62576  29.726707 ... 31.885622 28.62188  35.503326]\n"
          ]
        },
        {
          "output_type": "stream",
          "name": "stderr",
          "text": [
            "/usr/local/lib/python3.10/dist-packages/numba/cuda/dispatcher.py:536: NumbaPerformanceWarning: Grid size 4 will likely result in GPU under-utilization due to low occupancy.\n",
            "  warn(NumbaPerformanceWarning(msg))\n"
          ]
        }
      ]
    },
    {
      "cell_type": "code",
      "source": [
        "!apt-get update\n",
        "!apt-get install -y nvidia-cuda-toolkit\n"
      ],
      "metadata": {
        "colab": {
          "base_uri": "https://localhost:8080/"
        },
        "id": "SpWF83iR6S0h",
        "outputId": "367d3cbf-2835-473e-d9b7-1bba59b9ec42"
      },
      "execution_count": 42,
      "outputs": [
        {
          "output_type": "stream",
          "name": "stdout",
          "text": [
            "\r0% [Working]\r            \rGet:1 https://cloud.r-project.org/bin/linux/ubuntu jammy-cran40/ InRelease [3,622 B]\n",
            "\r0% [Connecting to archive.ubuntu.com (91.189.91.81)] [Connecting to security.ubuntu.com (185.125.190\r0% [Connecting to archive.ubuntu.com (91.189.91.81)] [Connecting to security.ubuntu.com (185.125.190\r                                                                                                    \rHit:2 https://developer.download.nvidia.com/compute/cuda/repos/ubuntu2204/x86_64  InRelease\n",
            "Hit:3 http://archive.ubuntu.com/ubuntu jammy InRelease\n",
            "Get:4 http://archive.ubuntu.com/ubuntu jammy-updates InRelease [128 kB]\n",
            "Get:5 http://security.ubuntu.com/ubuntu jammy-security InRelease [129 kB]\n",
            "Ign:6 https://r2u.stat.illinois.edu/ubuntu jammy InRelease\n",
            "Get:7 https://r2u.stat.illinois.edu/ubuntu jammy Release [5,713 B]\n",
            "Get:8 https://r2u.stat.illinois.edu/ubuntu jammy Release.gpg [793 B]\n",
            "Get:9 http://archive.ubuntu.com/ubuntu jammy-backports InRelease [127 kB]\n",
            "Get:10 https://r2u.stat.illinois.edu/ubuntu jammy/main amd64 Packages [2,588 kB]\n",
            "Get:11 http://archive.ubuntu.com/ubuntu jammy-updates/universe amd64 Packages [1,445 kB]\n",
            "Hit:12 https://ppa.launchpadcontent.net/deadsnakes/ppa/ubuntu jammy InRelease\n",
            "Hit:13 https://ppa.launchpadcontent.net/graphics-drivers/ppa/ubuntu jammy InRelease\n",
            "Get:14 http://archive.ubuntu.com/ubuntu jammy-updates/main amd64 Packages [2,595 kB]\n",
            "Hit:15 https://ppa.launchpadcontent.net/ubuntugis/ppa/ubuntu jammy InRelease\n",
            "Get:16 https://r2u.stat.illinois.edu/ubuntu jammy/main all Packages [8,359 kB]\n",
            "Get:17 http://archive.ubuntu.com/ubuntu jammy-backports/main amd64 Packages [81.4 kB]\n",
            "Get:18 http://archive.ubuntu.com/ubuntu jammy-backports/universe amd64 Packages [33.7 kB]\n",
            "Get:19 http://security.ubuntu.com/ubuntu jammy-security/universe amd64 Packages [1,156 kB]\n",
            "Get:20 http://security.ubuntu.com/ubuntu jammy-security/main amd64 Packages [2,318 kB]\n",
            "Fetched 19.0 MB in 3s (7,401 kB/s)\n",
            "Reading package lists... Done\n",
            "W: Skipping acquire of configured file 'main/source/Sources' as repository 'https://r2u.stat.illinois.edu/ubuntu jammy InRelease' does not seem to provide it (sources.list entry misspelt?)\n",
            "Reading package lists... Done\n",
            "Building dependency tree... Done\n",
            "Reading state information... Done\n",
            "The following additional packages will be installed:\n",
            "  fonts-dejavu-core fonts-dejavu-extra libaccinj64-11.5 libatk-wrapper-java libatk-wrapper-java-jni\n",
            "  libbabeltrace1 libcub-dev libcublas11 libcublaslt11 libcudart11.0 libcufft10 libcufftw10\n",
            "  libcuinj64-11.5 libcupti-dev libcupti-doc libcupti11.5 libcurand10 libcusolver11 libcusolvermg11\n",
            "  libcusparse11 libdebuginfod-common libdebuginfod1 libegl-dev libfontenc1 libgail-common libgail18\n",
            "  libgl-dev libgl1-mesa-dev libgles-dev libgles1 libglvnd-core-dev libglvnd-dev libglx-dev\n",
            "  libgtk2.0-0 libgtk2.0-bin libgtk2.0-common libipt2 libnppc11 libnppial11 libnppicc11 libnppidei11\n",
            "  libnppif11 libnppig11 libnppim11 libnppist11 libnppisu11 libnppitc11 libnpps11 libnvblas11\n",
            "  libnvidia-compute-495 libnvidia-compute-510 libnvidia-compute-535 libnvidia-ml-dev libnvjpeg11\n",
            "  libnvrtc-builtins11.5 libnvrtc11.2 libnvtoolsext1 libnvvm4 libopengl-dev librsvg2-common\n",
            "  libsource-highlight-common libsource-highlight4v5 libthrust-dev libvdpau-dev libxkbfile1 libxtst6\n",
            "  libxxf86dga1 node-html5shiv nvidia-cuda-dev nvidia-cuda-gdb nvidia-cuda-toolkit-doc\n",
            "  nvidia-profiler nvidia-visual-profiler openjdk-8-jre openjdk-8-jre-headless x11-utils\n",
            "Suggested packages:\n",
            "  gvfs libvdpau-doc nodejs libnss-mdns fonts-nanum fonts-ipafont-gothic fonts-ipafont-mincho\n",
            "  fonts-wqy-microhei fonts-wqy-zenhei fonts-indic mesa-utils\n",
            "Recommended packages:\n",
            "  libnvcuvid1 nsight-compute nsight-systems\n",
            "The following NEW packages will be installed:\n",
            "  fonts-dejavu-core fonts-dejavu-extra libaccinj64-11.5 libatk-wrapper-java libatk-wrapper-java-jni\n",
            "  libbabeltrace1 libcub-dev libcublas11 libcublaslt11 libcudart11.0 libcufft10 libcufftw10\n",
            "  libcuinj64-11.5 libcupti-dev libcupti-doc libcupti11.5 libcurand10 libcusolver11 libcusolvermg11\n",
            "  libcusparse11 libdebuginfod-common libdebuginfod1 libegl-dev libfontenc1 libgail-common libgail18\n",
            "  libgl-dev libgl1-mesa-dev libgles-dev libgles1 libglvnd-core-dev libglvnd-dev libglx-dev\n",
            "  libgtk2.0-0 libgtk2.0-bin libgtk2.0-common libipt2 libnppc11 libnppial11 libnppicc11 libnppidei11\n",
            "  libnppif11 libnppig11 libnppim11 libnppist11 libnppisu11 libnppitc11 libnpps11 libnvblas11\n",
            "  libnvidia-compute-495 libnvidia-compute-510 libnvidia-compute-535 libnvidia-ml-dev libnvjpeg11\n",
            "  libnvrtc-builtins11.5 libnvrtc11.2 libnvtoolsext1 libnvvm4 libopengl-dev librsvg2-common\n",
            "  libsource-highlight-common libsource-highlight4v5 libthrust-dev libvdpau-dev libxkbfile1 libxtst6\n",
            "  libxxf86dga1 node-html5shiv nvidia-cuda-dev nvidia-cuda-gdb nvidia-cuda-toolkit\n",
            "  nvidia-cuda-toolkit-doc nvidia-profiler nvidia-visual-profiler openjdk-8-jre\n",
            "  openjdk-8-jre-headless x11-utils\n",
            "0 upgraded, 77 newly installed, 0 to remove and 54 not upgraded.\n",
            "Need to get 1,540 MB of archives.\n",
            "After this operation, 4,234 MB of additional disk space will be used.\n",
            "Get:1 https://developer.download.nvidia.com/compute/cuda/repos/ubuntu2204/x86_64  libnvidia-compute-535 535.183.06-0ubuntu1 [36.9 MB]\n",
            "Get:2 http://archive.ubuntu.com/ubuntu jammy/main amd64 libdebuginfod-common all 0.186-1build1 [7,878 B]\n",
            "Get:3 http://archive.ubuntu.com/ubuntu jammy/main amd64 fonts-dejavu-core all 2.37-2build1 [1,041 kB]\n",
            "Get:4 http://archive.ubuntu.com/ubuntu jammy/main amd64 fonts-dejavu-extra all 2.37-2build1 [2,041 kB]\n",
            "Get:5 http://archive.ubuntu.com/ubuntu jammy/multiverse amd64 libcupti11.5 amd64 11.5.114~11.5.1-1ubuntu1 [7,696 kB]\n",
            "Get:6 http://archive.ubuntu.com/ubuntu jammy/multiverse amd64 libaccinj64-11.5 amd64 11.5.114~11.5.1-1ubuntu1 [845 kB]\n",
            "Get:7 http://archive.ubuntu.com/ubuntu jammy/main amd64 libfontenc1 amd64 1:1.1.4-1build3 [14.7 kB]\n",
            "Get:8 http://archive.ubuntu.com/ubuntu jammy/main amd64 libxkbfile1 amd64 1:1.1.0-1build3 [71.8 kB]\n",
            "Get:9 http://archive.ubuntu.com/ubuntu jammy/main amd64 libxtst6 amd64 2:1.2.3-1build4 [13.4 kB]\n",
            "Get:10 http://archive.ubuntu.com/ubuntu jammy/main amd64 libxxf86dga1 amd64 2:1.1.5-0ubuntu3 [12.6 kB]\n",
            "Get:11 http://archive.ubuntu.com/ubuntu jammy/main amd64 x11-utils amd64 7.7+5build2 [206 kB]\n",
            "Get:12 http://archive.ubuntu.com/ubuntu jammy/main amd64 libatk-wrapper-java all 0.38.0-5build1 [53.1 kB]\n",
            "Get:13 http://archive.ubuntu.com/ubuntu jammy/main amd64 libatk-wrapper-java-jni amd64 0.38.0-5build1 [49.0 kB]\n",
            "Get:14 http://archive.ubuntu.com/ubuntu jammy/universe amd64 libcub-dev all 1.15.0-3 [217 kB]\n",
            "Get:15 http://archive.ubuntu.com/ubuntu jammy/multiverse amd64 libcublaslt11 amd64 11.7.4.6~11.5.1-1ubuntu1 [148 MB]\n",
            "Get:16 http://archive.ubuntu.com/ubuntu jammy/multiverse amd64 libcublas11 amd64 11.7.4.6~11.5.1-1ubuntu1 [78.2 MB]\n",
            "Get:17 http://archive.ubuntu.com/ubuntu jammy/multiverse amd64 libcudart11.0 amd64 11.5.117~11.5.1-1ubuntu1 [178 kB]\n",
            "Get:18 http://archive.ubuntu.com/ubuntu jammy/multiverse amd64 libcufft10 amd64 11.1.1+~10.6.0.107~11.5.1-1ubuntu1 [70.4 MB]\n",
            "Get:19 http://archive.ubuntu.com/ubuntu jammy/multiverse amd64 libcufftw10 amd64 11.1.1+~10.6.0.107~11.5.1-1ubuntu1 [211 kB]\n",
            "Get:20 http://archive.ubuntu.com/ubuntu jammy-updates/restricted amd64 libnvidia-compute-510 amd64 525.147.05-0ubuntu2.22.04.1 [7,310 B]\n",
            "Get:21 http://archive.ubuntu.com/ubuntu jammy-updates/restricted amd64 libnvidia-compute-495 amd64 510.108.03-0ubuntu0.22.04.1 [7,378 B]\n",
            "Get:22 http://archive.ubuntu.com/ubuntu jammy/multiverse amd64 libcuinj64-11.5 amd64 11.5.114~11.5.1-1ubuntu1 [1,004 kB]\n",
            "Get:23 http://archive.ubuntu.com/ubuntu jammy/multiverse amd64 libcurand10 amd64 11.1.1+~10.2.7.107~11.5.1-1ubuntu1 [41.8 MB]\n",
            "Get:24 http://archive.ubuntu.com/ubuntu jammy/multiverse amd64 libcusolver11 amd64 11.3.2.107~11.5.1-1ubuntu1 [31.3 MB]\n",
            "Get:25 http://archive.ubuntu.com/ubuntu jammy/multiverse amd64 libcusolvermg11 amd64 11.3.2.107~11.5.1-1ubuntu1 [17.8 MB]\n",
            "Get:26 http://archive.ubuntu.com/ubuntu jammy/multiverse amd64 libcusparse11 amd64 11.7.0.107~11.5.1-1ubuntu1 [96.2 MB]\n",
            "Get:27 http://archive.ubuntu.com/ubuntu jammy/main amd64 libdebuginfod1 amd64 0.186-1build1 [12.7 kB]\n",
            "Get:28 http://archive.ubuntu.com/ubuntu jammy/main amd64 libglx-dev amd64 1.4.0-1 [14.1 kB]\n",
            "Get:29 http://archive.ubuntu.com/ubuntu jammy/main amd64 libgl-dev amd64 1.4.0-1 [101 kB]\n",
            "Get:30 http://archive.ubuntu.com/ubuntu jammy/main amd64 libegl-dev amd64 1.4.0-1 [18.0 kB]\n",
            "Get:31 http://archive.ubuntu.com/ubuntu jammy-updates/main amd64 libgtk2.0-common all 2.24.33-2ubuntu2.1 [125 kB]\n",
            "Get:32 http://archive.ubuntu.com/ubuntu jammy-updates/main amd64 libgtk2.0-0 amd64 2.24.33-2ubuntu2.1 [2,038 kB]\n",
            "Get:33 http://archive.ubuntu.com/ubuntu jammy-updates/main amd64 libgail18 amd64 2.24.33-2ubuntu2.1 [15.9 kB]\n",
            "Get:34 http://archive.ubuntu.com/ubuntu jammy-updates/main amd64 libgail-common amd64 2.24.33-2ubuntu2.1 [132 kB]\n",
            "Get:35 http://archive.ubuntu.com/ubuntu jammy/main amd64 libgles1 amd64 1.4.0-1 [11.5 kB]\n",
            "Get:36 http://archive.ubuntu.com/ubuntu jammy/main amd64 libgles-dev amd64 1.4.0-1 [49.4 kB]\n",
            "Get:37 http://archive.ubuntu.com/ubuntu jammy-updates/main amd64 libgtk2.0-bin amd64 2.24.33-2ubuntu2.1 [7,936 B]\n",
            "Get:38 http://archive.ubuntu.com/ubuntu jammy/main amd64 libipt2 amd64 2.0.5-1 [46.4 kB]\n",
            "Get:39 http://archive.ubuntu.com/ubuntu jammy/multiverse amd64 libnppc11 amd64 11.5.1.107~11.5.1-1ubuntu1 [430 kB]\n",
            "Get:40 http://archive.ubuntu.com/ubuntu jammy/multiverse amd64 libnppial11 amd64 11.5.1.107~11.5.1-1ubuntu1 [5,234 kB]\n",
            "Get:41 http://archive.ubuntu.com/ubuntu jammy/multiverse amd64 libnppicc11 amd64 11.5.1.107~11.5.1-1ubuntu1 [2,373 kB]\n",
            "Get:42 http://archive.ubuntu.com/ubuntu jammy/multiverse amd64 libnppidei11 amd64 11.5.1.107~11.5.1-1ubuntu1 [2,587 kB]\n",
            "Get:43 http://archive.ubuntu.com/ubuntu jammy/multiverse amd64 libnppif11 amd64 11.5.1.107~11.5.1-1ubuntu1 [33.8 MB]\n",
            "Get:44 http://archive.ubuntu.com/ubuntu jammy/multiverse amd64 libnppig11 amd64 11.5.1.107~11.5.1-1ubuntu1 [14.5 MB]\n",
            "Get:45 http://archive.ubuntu.com/ubuntu jammy/multiverse amd64 libnppim11 amd64 11.5.1.107~11.5.1-1ubuntu1 [3,037 kB]\n",
            "Get:46 http://archive.ubuntu.com/ubuntu jammy/multiverse amd64 libnppist11 amd64 11.5.1.107~11.5.1-1ubuntu1 [13.7 MB]\n",
            "Get:47 http://archive.ubuntu.com/ubuntu jammy/multiverse amd64 libnppisu11 amd64 11.5.1.107~11.5.1-1ubuntu1 [177 kB]\n",
            "Get:48 http://archive.ubuntu.com/ubuntu jammy/multiverse amd64 libnppitc11 amd64 11.5.1.107~11.5.1-1ubuntu1 [1,292 kB]\n",
            "Get:49 http://archive.ubuntu.com/ubuntu jammy/multiverse amd64 libnpps11 amd64 11.5.1.107~11.5.1-1ubuntu1 [7,116 kB]\n",
            "Get:50 http://archive.ubuntu.com/ubuntu jammy/multiverse amd64 libnvblas11 amd64 11.7.4.6~11.5.1-1ubuntu1 [191 kB]\n",
            "Get:51 http://archive.ubuntu.com/ubuntu jammy/multiverse amd64 libnvidia-ml-dev amd64 11.5.50~11.5.1-1ubuntu1 [69.1 kB]\n",
            "Get:52 http://archive.ubuntu.com/ubuntu jammy/multiverse amd64 libnvjpeg11 amd64 11.5.4.107~11.5.1-1ubuntu1 [1,858 kB]\n",
            "Get:53 http://archive.ubuntu.com/ubuntu jammy/multiverse amd64 libnvrtc-builtins11.5 amd64 11.5.119~11.5.1-1ubuntu1 [116 kB]\n",
            "Get:54 http://archive.ubuntu.com/ubuntu jammy/multiverse amd64 libnvrtc11.2 amd64 11.5.119~11.5.1-1ubuntu1 [15.7 MB]\n",
            "Get:55 http://archive.ubuntu.com/ubuntu jammy/multiverse amd64 libnvvm4 amd64 11.5.119~11.5.1-1ubuntu1 [8,675 kB]\n",
            "Get:56 http://archive.ubuntu.com/ubuntu jammy/main amd64 libopengl-dev amd64 1.4.0-1 [3,400 B]\n",
            "Get:57 http://archive.ubuntu.com/ubuntu jammy-updates/main amd64 librsvg2-common amd64 2.52.5+dfsg-3ubuntu0.2 [17.7 kB]\n",
            "Get:58 http://archive.ubuntu.com/ubuntu jammy/main amd64 libsource-highlight-common all 3.1.9-4.1build2 [64.5 kB]\n",
            "Get:59 http://archive.ubuntu.com/ubuntu jammy/main amd64 libsource-highlight4v5 amd64 3.1.9-4.1build2 [207 kB]\n",
            "Get:60 http://archive.ubuntu.com/ubuntu jammy/main amd64 libvdpau-dev amd64 1.4-3build2 [38.7 kB]\n",
            "Get:61 http://archive.ubuntu.com/ubuntu jammy/universe amd64 node-html5shiv all 3.7.3+dfsg-4 [13.6 kB]\n",
            "Get:62 http://archive.ubuntu.com/ubuntu jammy/multiverse amd64 nvidia-cuda-toolkit-doc all 11.5.1-1ubuntu1 [6,263 kB]\n",
            "Get:63 http://archive.ubuntu.com/ubuntu jammy-updates/universe amd64 openjdk-8-jre-headless amd64 8u422-b05-1~22.04 [30.8 MB]\n",
            "Get:64 http://archive.ubuntu.com/ubuntu jammy-updates/universe amd64 openjdk-8-jre amd64 8u422-b05-1~22.04 [75.5 kB]\n",
            "Get:65 http://archive.ubuntu.com/ubuntu jammy/main amd64 libbabeltrace1 amd64 1.5.8-2build1 [160 kB]\n",
            "Get:66 http://archive.ubuntu.com/ubuntu jammy/multiverse amd64 libcupti-dev amd64 11.5.114~11.5.1-1ubuntu1 [7,915 kB]\n",
            "Get:67 http://archive.ubuntu.com/ubuntu jammy/multiverse amd64 libcupti-doc all 11.5.114~11.5.1-1ubuntu1 [2,373 kB]\n",
            "Get:68 http://archive.ubuntu.com/ubuntu jammy/main amd64 libglvnd-core-dev amd64 1.4.0-1 [12.7 kB]\n",
            "Get:69 http://archive.ubuntu.com/ubuntu jammy/main amd64 libglvnd-dev amd64 1.4.0-1 [3,162 B]\n",
            "Get:70 http://archive.ubuntu.com/ubuntu jammy-updates/main amd64 libgl1-mesa-dev amd64 23.2.1-1ubuntu3.1~22.04.2 [6,842 B]\n",
            "Get:71 http://archive.ubuntu.com/ubuntu jammy/multiverse amd64 libnvtoolsext1 amd64 11.5.114~11.5.1-1ubuntu1 [28.8 kB]\n",
            "Get:72 http://archive.ubuntu.com/ubuntu jammy/multiverse amd64 libthrust-dev all 1.15.0-1 [423 kB]\n",
            "Get:73 http://archive.ubuntu.com/ubuntu jammy/multiverse amd64 nvidia-cuda-dev amd64 11.5.1-1ubuntu1 [667 MB]\n",
            "Get:74 http://archive.ubuntu.com/ubuntu jammy/multiverse amd64 nvidia-cuda-gdb amd64 11.5.114~11.5.1-1ubuntu1 [3,404 kB]\n",
            "Get:75 http://archive.ubuntu.com/ubuntu jammy/multiverse amd64 nvidia-profiler amd64 11.5.114~11.5.1-1ubuntu1 [1,732 kB]\n",
            "Get:76 http://archive.ubuntu.com/ubuntu jammy/multiverse amd64 nvidia-cuda-toolkit amd64 11.5.1-1ubuntu1 [62.8 MB]\n",
            "Get:77 http://archive.ubuntu.com/ubuntu jammy/multiverse amd64 nvidia-visual-profiler amd64 11.5.114~11.5.1-1ubuntu1 [108 MB]\n",
            "Fetched 1,540 MB in 45s (34.2 MB/s)\n",
            "Extracting templates from packages: 100%\n",
            "Preconfiguring packages ...\n",
            "Selecting previously unselected package libdebuginfod-common.\n",
            "(Reading database ... 123614 files and directories currently installed.)\n",
            "Preparing to unpack .../00-libdebuginfod-common_0.186-1build1_all.deb ...\n",
            "Unpacking libdebuginfod-common (0.186-1build1) ...\n",
            "Selecting previously unselected package fonts-dejavu-core.\n",
            "Preparing to unpack .../01-fonts-dejavu-core_2.37-2build1_all.deb ...\n",
            "Unpacking fonts-dejavu-core (2.37-2build1) ...\n",
            "Selecting previously unselected package fonts-dejavu-extra.\n",
            "Preparing to unpack .../02-fonts-dejavu-extra_2.37-2build1_all.deb ...\n",
            "Unpacking fonts-dejavu-extra (2.37-2build1) ...\n",
            "Selecting previously unselected package libcupti11.5:amd64.\n",
            "Preparing to unpack .../03-libcupti11.5_11.5.114~11.5.1-1ubuntu1_amd64.deb ...\n",
            "Unpacking libcupti11.5:amd64 (11.5.114~11.5.1-1ubuntu1) ...\n",
            "Selecting previously unselected package libaccinj64-11.5:amd64.\n",
            "Preparing to unpack .../04-libaccinj64-11.5_11.5.114~11.5.1-1ubuntu1_amd64.deb ...\n",
            "Unpacking libaccinj64-11.5:amd64 (11.5.114~11.5.1-1ubuntu1) ...\n",
            "Selecting previously unselected package libfontenc1:amd64.\n",
            "Preparing to unpack .../05-libfontenc1_1%3a1.1.4-1build3_amd64.deb ...\n",
            "Unpacking libfontenc1:amd64 (1:1.1.4-1build3) ...\n",
            "Selecting previously unselected package libxkbfile1:amd64.\n",
            "Preparing to unpack .../06-libxkbfile1_1%3a1.1.0-1build3_amd64.deb ...\n",
            "Unpacking libxkbfile1:amd64 (1:1.1.0-1build3) ...\n",
            "Selecting previously unselected package libxtst6:amd64.\n",
            "Preparing to unpack .../07-libxtst6_2%3a1.2.3-1build4_amd64.deb ...\n",
            "Unpacking libxtst6:amd64 (2:1.2.3-1build4) ...\n",
            "Selecting previously unselected package libxxf86dga1:amd64.\n",
            "Preparing to unpack .../08-libxxf86dga1_2%3a1.1.5-0ubuntu3_amd64.deb ...\n",
            "Unpacking libxxf86dga1:amd64 (2:1.1.5-0ubuntu3) ...\n",
            "Selecting previously unselected package x11-utils.\n",
            "Preparing to unpack .../09-x11-utils_7.7+5build2_amd64.deb ...\n",
            "Unpacking x11-utils (7.7+5build2) ...\n",
            "Selecting previously unselected package libatk-wrapper-java.\n",
            "Preparing to unpack .../10-libatk-wrapper-java_0.38.0-5build1_all.deb ...\n",
            "Unpacking libatk-wrapper-java (0.38.0-5build1) ...\n",
            "Selecting previously unselected package libatk-wrapper-java-jni:amd64.\n",
            "Preparing to unpack .../11-libatk-wrapper-java-jni_0.38.0-5build1_amd64.deb ...\n",
            "Unpacking libatk-wrapper-java-jni:amd64 (0.38.0-5build1) ...\n",
            "Selecting previously unselected package libcub-dev.\n",
            "Preparing to unpack .../12-libcub-dev_1.15.0-3_all.deb ...\n",
            "Unpacking libcub-dev (1.15.0-3) ...\n",
            "Selecting previously unselected package libcublaslt11:amd64.\n",
            "Preparing to unpack .../13-libcublaslt11_11.7.4.6~11.5.1-1ubuntu1_amd64.deb ...\n",
            "Unpacking libcublaslt11:amd64 (11.7.4.6~11.5.1-1ubuntu1) ...\n",
            "Selecting previously unselected package libcublas11:amd64.\n",
            "Preparing to unpack .../14-libcublas11_11.7.4.6~11.5.1-1ubuntu1_amd64.deb ...\n",
            "Unpacking libcublas11:amd64 (11.7.4.6~11.5.1-1ubuntu1) ...\n",
            "Selecting previously unselected package libcudart11.0:amd64.\n",
            "Preparing to unpack .../15-libcudart11.0_11.5.117~11.5.1-1ubuntu1_amd64.deb ...\n",
            "Unpacking libcudart11.0:amd64 (11.5.117~11.5.1-1ubuntu1) ...\n",
            "Selecting previously unselected package libcufft10:amd64.\n",
            "Preparing to unpack .../16-libcufft10_11.1.1+~10.6.0.107~11.5.1-1ubuntu1_amd64.deb ...\n",
            "Unpacking libcufft10:amd64 (11.1.1+~10.6.0.107~11.5.1-1ubuntu1) ...\n",
            "Selecting previously unselected package libcufftw10:amd64.\n",
            "Preparing to unpack .../17-libcufftw10_11.1.1+~10.6.0.107~11.5.1-1ubuntu1_amd64.deb ...\n",
            "Unpacking libcufftw10:amd64 (11.1.1+~10.6.0.107~11.5.1-1ubuntu1) ...\n",
            "Selecting previously unselected package libnvidia-compute-535:amd64.\n",
            "Preparing to unpack .../18-libnvidia-compute-535_535.183.06-0ubuntu1_amd64.deb ...\n",
            "Unpacking libnvidia-compute-535:amd64 (535.183.06-0ubuntu1) ...\n",
            "Selecting previously unselected package libnvidia-compute-510:amd64.\n",
            "Preparing to unpack .../19-libnvidia-compute-510_525.147.05-0ubuntu2.22.04.1_amd64.deb ...\n",
            "Unpacking libnvidia-compute-510:amd64 (525.147.05-0ubuntu2.22.04.1) ...\n",
            "Selecting previously unselected package libnvidia-compute-495:amd64.\n",
            "Preparing to unpack .../20-libnvidia-compute-495_510.108.03-0ubuntu0.22.04.1_amd64.deb ...\n",
            "Unpacking libnvidia-compute-495:amd64 (510.108.03-0ubuntu0.22.04.1) ...\n",
            "Selecting previously unselected package libcuinj64-11.5:amd64.\n",
            "Preparing to unpack .../21-libcuinj64-11.5_11.5.114~11.5.1-1ubuntu1_amd64.deb ...\n",
            "Unpacking libcuinj64-11.5:amd64 (11.5.114~11.5.1-1ubuntu1) ...\n",
            "Selecting previously unselected package libcurand10:amd64.\n",
            "Preparing to unpack .../22-libcurand10_11.1.1+~10.2.7.107~11.5.1-1ubuntu1_amd64.deb ...\n",
            "Unpacking libcurand10:amd64 (11.1.1+~10.2.7.107~11.5.1-1ubuntu1) ...\n",
            "Selecting previously unselected package libcusolver11:amd64.\n",
            "Preparing to unpack .../23-libcusolver11_11.3.2.107~11.5.1-1ubuntu1_amd64.deb ...\n",
            "Unpacking libcusolver11:amd64 (11.3.2.107~11.5.1-1ubuntu1) ...\n",
            "Selecting previously unselected package libcusolvermg11:amd64.\n",
            "Preparing to unpack .../24-libcusolvermg11_11.3.2.107~11.5.1-1ubuntu1_amd64.deb ...\n",
            "Unpacking libcusolvermg11:amd64 (11.3.2.107~11.5.1-1ubuntu1) ...\n",
            "Selecting previously unselected package libcusparse11:amd64.\n",
            "Preparing to unpack .../25-libcusparse11_11.7.0.107~11.5.1-1ubuntu1_amd64.deb ...\n",
            "Unpacking libcusparse11:amd64 (11.7.0.107~11.5.1-1ubuntu1) ...\n",
            "Selecting previously unselected package libdebuginfod1:amd64.\n",
            "Preparing to unpack .../26-libdebuginfod1_0.186-1build1_amd64.deb ...\n",
            "Unpacking libdebuginfod1:amd64 (0.186-1build1) ...\n",
            "Selecting previously unselected package libglx-dev:amd64.\n",
            "Preparing to unpack .../27-libglx-dev_1.4.0-1_amd64.deb ...\n",
            "Unpacking libglx-dev:amd64 (1.4.0-1) ...\n",
            "Selecting previously unselected package libgl-dev:amd64.\n",
            "Preparing to unpack .../28-libgl-dev_1.4.0-1_amd64.deb ...\n",
            "Unpacking libgl-dev:amd64 (1.4.0-1) ...\n",
            "Selecting previously unselected package libegl-dev:amd64.\n",
            "Preparing to unpack .../29-libegl-dev_1.4.0-1_amd64.deb ...\n",
            "Unpacking libegl-dev:amd64 (1.4.0-1) ...\n",
            "Selecting previously unselected package libgtk2.0-common.\n",
            "Preparing to unpack .../30-libgtk2.0-common_2.24.33-2ubuntu2.1_all.deb ...\n",
            "Unpacking libgtk2.0-common (2.24.33-2ubuntu2.1) ...\n",
            "Selecting previously unselected package libgtk2.0-0:amd64.\n",
            "Preparing to unpack .../31-libgtk2.0-0_2.24.33-2ubuntu2.1_amd64.deb ...\n",
            "Unpacking libgtk2.0-0:amd64 (2.24.33-2ubuntu2.1) ...\n",
            "Selecting previously unselected package libgail18:amd64.\n",
            "Preparing to unpack .../32-libgail18_2.24.33-2ubuntu2.1_amd64.deb ...\n",
            "Unpacking libgail18:amd64 (2.24.33-2ubuntu2.1) ...\n",
            "Selecting previously unselected package libgail-common:amd64.\n",
            "Preparing to unpack .../33-libgail-common_2.24.33-2ubuntu2.1_amd64.deb ...\n",
            "Unpacking libgail-common:amd64 (2.24.33-2ubuntu2.1) ...\n",
            "Selecting previously unselected package libgles1:amd64.\n",
            "Preparing to unpack .../34-libgles1_1.4.0-1_amd64.deb ...\n",
            "Unpacking libgles1:amd64 (1.4.0-1) ...\n",
            "Selecting previously unselected package libgles-dev:amd64.\n",
            "Preparing to unpack .../35-libgles-dev_1.4.0-1_amd64.deb ...\n",
            "Unpacking libgles-dev:amd64 (1.4.0-1) ...\n",
            "Selecting previously unselected package libgtk2.0-bin.\n",
            "Preparing to unpack .../36-libgtk2.0-bin_2.24.33-2ubuntu2.1_amd64.deb ...\n",
            "Unpacking libgtk2.0-bin (2.24.33-2ubuntu2.1) ...\n",
            "Selecting previously unselected package libipt2.\n",
            "Preparing to unpack .../37-libipt2_2.0.5-1_amd64.deb ...\n",
            "Unpacking libipt2 (2.0.5-1) ...\n",
            "Selecting previously unselected package libnppc11:amd64.\n",
            "Preparing to unpack .../38-libnppc11_11.5.1.107~11.5.1-1ubuntu1_amd64.deb ...\n",
            "Unpacking libnppc11:amd64 (11.5.1.107~11.5.1-1ubuntu1) ...\n",
            "Selecting previously unselected package libnppial11:amd64.\n",
            "Preparing to unpack .../39-libnppial11_11.5.1.107~11.5.1-1ubuntu1_amd64.deb ...\n",
            "Unpacking libnppial11:amd64 (11.5.1.107~11.5.1-1ubuntu1) ...\n",
            "Selecting previously unselected package libnppicc11:amd64.\n",
            "Preparing to unpack .../40-libnppicc11_11.5.1.107~11.5.1-1ubuntu1_amd64.deb ...\n",
            "Unpacking libnppicc11:amd64 (11.5.1.107~11.5.1-1ubuntu1) ...\n",
            "Selecting previously unselected package libnppidei11:amd64.\n",
            "Preparing to unpack .../41-libnppidei11_11.5.1.107~11.5.1-1ubuntu1_amd64.deb ...\n",
            "Unpacking libnppidei11:amd64 (11.5.1.107~11.5.1-1ubuntu1) ...\n",
            "Selecting previously unselected package libnppif11:amd64.\n",
            "Preparing to unpack .../42-libnppif11_11.5.1.107~11.5.1-1ubuntu1_amd64.deb ...\n",
            "Unpacking libnppif11:amd64 (11.5.1.107~11.5.1-1ubuntu1) ...\n",
            "Selecting previously unselected package libnppig11:amd64.\n",
            "Preparing to unpack .../43-libnppig11_11.5.1.107~11.5.1-1ubuntu1_amd64.deb ...\n",
            "Unpacking libnppig11:amd64 (11.5.1.107~11.5.1-1ubuntu1) ...\n",
            "Selecting previously unselected package libnppim11:amd64.\n",
            "Preparing to unpack .../44-libnppim11_11.5.1.107~11.5.1-1ubuntu1_amd64.deb ...\n",
            "Unpacking libnppim11:amd64 (11.5.1.107~11.5.1-1ubuntu1) ...\n",
            "Selecting previously unselected package libnppist11:amd64.\n",
            "Preparing to unpack .../45-libnppist11_11.5.1.107~11.5.1-1ubuntu1_amd64.deb ...\n",
            "Unpacking libnppist11:amd64 (11.5.1.107~11.5.1-1ubuntu1) ...\n",
            "Selecting previously unselected package libnppisu11:amd64.\n",
            "Preparing to unpack .../46-libnppisu11_11.5.1.107~11.5.1-1ubuntu1_amd64.deb ...\n",
            "Unpacking libnppisu11:amd64 (11.5.1.107~11.5.1-1ubuntu1) ...\n",
            "Selecting previously unselected package libnppitc11:amd64.\n",
            "Preparing to unpack .../47-libnppitc11_11.5.1.107~11.5.1-1ubuntu1_amd64.deb ...\n",
            "Unpacking libnppitc11:amd64 (11.5.1.107~11.5.1-1ubuntu1) ...\n",
            "Selecting previously unselected package libnpps11:amd64.\n",
            "Preparing to unpack .../48-libnpps11_11.5.1.107~11.5.1-1ubuntu1_amd64.deb ...\n",
            "Unpacking libnpps11:amd64 (11.5.1.107~11.5.1-1ubuntu1) ...\n",
            "Selecting previously unselected package libnvblas11:amd64.\n",
            "Preparing to unpack .../49-libnvblas11_11.7.4.6~11.5.1-1ubuntu1_amd64.deb ...\n",
            "Unpacking libnvblas11:amd64 (11.7.4.6~11.5.1-1ubuntu1) ...\n",
            "Selecting previously unselected package libnvidia-ml-dev:amd64.\n",
            "Preparing to unpack .../50-libnvidia-ml-dev_11.5.50~11.5.1-1ubuntu1_amd64.deb ...\n",
            "Unpacking libnvidia-ml-dev:amd64 (11.5.50~11.5.1-1ubuntu1) ...\n",
            "Selecting previously unselected package libnvjpeg11:amd64.\n",
            "Preparing to unpack .../51-libnvjpeg11_11.5.4.107~11.5.1-1ubuntu1_amd64.deb ...\n",
            "Unpacking libnvjpeg11:amd64 (11.5.4.107~11.5.1-1ubuntu1) ...\n",
            "Selecting previously unselected package libnvrtc-builtins11.5:amd64.\n",
            "Preparing to unpack .../52-libnvrtc-builtins11.5_11.5.119~11.5.1-1ubuntu1_amd64.deb ...\n",
            "Unpacking libnvrtc-builtins11.5:amd64 (11.5.119~11.5.1-1ubuntu1) ...\n",
            "Selecting previously unselected package libnvrtc11.2:amd64.\n",
            "Preparing to unpack .../53-libnvrtc11.2_11.5.119~11.5.1-1ubuntu1_amd64.deb ...\n",
            "Unpacking libnvrtc11.2:amd64 (11.5.119~11.5.1-1ubuntu1) ...\n",
            "Selecting previously unselected package libnvvm4:amd64.\n",
            "Preparing to unpack .../54-libnvvm4_11.5.119~11.5.1-1ubuntu1_amd64.deb ...\n",
            "Unpacking libnvvm4:amd64 (11.5.119~11.5.1-1ubuntu1) ...\n",
            "Selecting previously unselected package libopengl-dev:amd64.\n",
            "Preparing to unpack .../55-libopengl-dev_1.4.0-1_amd64.deb ...\n",
            "Unpacking libopengl-dev:amd64 (1.4.0-1) ...\n",
            "Selecting previously unselected package librsvg2-common:amd64.\n",
            "Preparing to unpack .../56-librsvg2-common_2.52.5+dfsg-3ubuntu0.2_amd64.deb ...\n",
            "Unpacking librsvg2-common:amd64 (2.52.5+dfsg-3ubuntu0.2) ...\n",
            "Selecting previously unselected package libsource-highlight-common.\n",
            "Preparing to unpack .../57-libsource-highlight-common_3.1.9-4.1build2_all.deb ...\n",
            "Unpacking libsource-highlight-common (3.1.9-4.1build2) ...\n",
            "Selecting previously unselected package libsource-highlight4v5.\n",
            "Preparing to unpack .../58-libsource-highlight4v5_3.1.9-4.1build2_amd64.deb ...\n",
            "Unpacking libsource-highlight4v5 (3.1.9-4.1build2) ...\n",
            "Selecting previously unselected package libvdpau-dev:amd64.\n",
            "Preparing to unpack .../59-libvdpau-dev_1.4-3build2_amd64.deb ...\n",
            "Unpacking libvdpau-dev:amd64 (1.4-3build2) ...\n",
            "Selecting previously unselected package node-html5shiv.\n",
            "Preparing to unpack .../60-node-html5shiv_3.7.3+dfsg-4_all.deb ...\n",
            "Unpacking node-html5shiv (3.7.3+dfsg-4) ...\n",
            "Selecting previously unselected package nvidia-cuda-toolkit-doc.\n",
            "Preparing to unpack .../61-nvidia-cuda-toolkit-doc_11.5.1-1ubuntu1_all.deb ...\n",
            "Unpacking nvidia-cuda-toolkit-doc (11.5.1-1ubuntu1) ...\n",
            "Selecting previously unselected package openjdk-8-jre-headless:amd64.\n",
            "Preparing to unpack .../62-openjdk-8-jre-headless_8u422-b05-1~22.04_amd64.deb ...\n",
            "Unpacking openjdk-8-jre-headless:amd64 (8u422-b05-1~22.04) ...\n",
            "Selecting previously unselected package openjdk-8-jre:amd64.\n",
            "Preparing to unpack .../63-openjdk-8-jre_8u422-b05-1~22.04_amd64.deb ...\n",
            "Unpacking openjdk-8-jre:amd64 (8u422-b05-1~22.04) ...\n",
            "Selecting previously unselected package libbabeltrace1:amd64.\n",
            "Preparing to unpack .../64-libbabeltrace1_1.5.8-2build1_amd64.deb ...\n",
            "Unpacking libbabeltrace1:amd64 (1.5.8-2build1) ...\n",
            "Selecting previously unselected package libcupti-dev:amd64.\n",
            "Preparing to unpack .../65-libcupti-dev_11.5.114~11.5.1-1ubuntu1_amd64.deb ...\n",
            "Unpacking libcupti-dev:amd64 (11.5.114~11.5.1-1ubuntu1) ...\n",
            "Selecting previously unselected package libcupti-doc.\n",
            "Preparing to unpack .../66-libcupti-doc_11.5.114~11.5.1-1ubuntu1_all.deb ...\n",
            "Unpacking libcupti-doc (11.5.114~11.5.1-1ubuntu1) ...\n",
            "Selecting previously unselected package libglvnd-core-dev:amd64.\n",
            "Preparing to unpack .../67-libglvnd-core-dev_1.4.0-1_amd64.deb ...\n",
            "Unpacking libglvnd-core-dev:amd64 (1.4.0-1) ...\n",
            "Selecting previously unselected package libglvnd-dev:amd64.\n",
            "Preparing to unpack .../68-libglvnd-dev_1.4.0-1_amd64.deb ...\n",
            "Unpacking libglvnd-dev:amd64 (1.4.0-1) ...\n",
            "Selecting previously unselected package libgl1-mesa-dev:amd64.\n",
            "Preparing to unpack .../69-libgl1-mesa-dev_23.2.1-1ubuntu3.1~22.04.2_amd64.deb ...\n",
            "Unpacking libgl1-mesa-dev:amd64 (23.2.1-1ubuntu3.1~22.04.2) ...\n",
            "Selecting previously unselected package libnvtoolsext1:amd64.\n",
            "Preparing to unpack .../70-libnvtoolsext1_11.5.114~11.5.1-1ubuntu1_amd64.deb ...\n",
            "Unpacking libnvtoolsext1:amd64 (11.5.114~11.5.1-1ubuntu1) ...\n",
            "Selecting previously unselected package libthrust-dev.\n",
            "Preparing to unpack .../71-libthrust-dev_1.15.0-1_all.deb ...\n",
            "Unpacking libthrust-dev (1.15.0-1) ...\n",
            "Selecting previously unselected package nvidia-cuda-dev:amd64.\n",
            "Preparing to unpack .../72-nvidia-cuda-dev_11.5.1-1ubuntu1_amd64.deb ...\n",
            "Unpacking nvidia-cuda-dev:amd64 (11.5.1-1ubuntu1) ...\n",
            "Selecting previously unselected package nvidia-cuda-gdb.\n",
            "Preparing to unpack .../73-nvidia-cuda-gdb_11.5.114~11.5.1-1ubuntu1_amd64.deb ...\n",
            "Unpacking nvidia-cuda-gdb (11.5.114~11.5.1-1ubuntu1) ...\n",
            "Selecting previously unselected package nvidia-profiler.\n",
            "Preparing to unpack .../74-nvidia-profiler_11.5.114~11.5.1-1ubuntu1_amd64.deb ...\n",
            "Unpacking nvidia-profiler (11.5.114~11.5.1-1ubuntu1) ...\n",
            "Selecting previously unselected package nvidia-cuda-toolkit.\n",
            "Preparing to unpack .../75-nvidia-cuda-toolkit_11.5.1-1ubuntu1_amd64.deb ...\n",
            "Unpacking nvidia-cuda-toolkit (11.5.1-1ubuntu1) ...\n",
            "Selecting previously unselected package nvidia-visual-profiler.\n",
            "Preparing to unpack .../76-nvidia-visual-profiler_11.5.114~11.5.1-1ubuntu1_amd64.deb ...\n",
            "Unpacking nvidia-visual-profiler (11.5.114~11.5.1-1ubuntu1) ...\n",
            "Setting up libcusparse11:amd64 (11.7.0.107~11.5.1-1ubuntu1) ...\n",
            "Setting up libglvnd-core-dev:amd64 (1.4.0-1) ...\n",
            "Setting up libdebuginfod-common (0.186-1build1) ...\n",
            "\n",
            "Creating config file /etc/profile.d/debuginfod.sh with new version\n",
            "\n",
            "Creating config file /etc/profile.d/debuginfod.csh with new version\n",
            "Setting up libnppc11:amd64 (11.5.1.107~11.5.1-1ubuntu1) ...\n",
            "Setting up libxtst6:amd64 (2:1.2.3-1build4) ...\n",
            "Setting up libdebuginfod1:amd64 (0.186-1build1) ...\n",
            "Setting up node-html5shiv (3.7.3+dfsg-4) ...\n",
            "Setting up libxxf86dga1:amd64 (2:1.1.5-0ubuntu3) ...\n",
            "Setting up libcupti-doc (11.5.114~11.5.1-1ubuntu1) ...\n",
            "Setting up libsource-highlight-common (3.1.9-4.1build2) ...\n",
            "Setting up libcudart11.0:amd64 (11.5.117~11.5.1-1ubuntu1) ...\n",
            "Setting up libnppisu11:amd64 (11.5.1.107~11.5.1-1ubuntu1) ...\n",
            "Setting up libnppicc11:amd64 (11.5.1.107~11.5.1-1ubuntu1) ...\n",
            "Setting up libnvjpeg11:amd64 (11.5.4.107~11.5.1-1ubuntu1) ...\n",
            "Setting up libfontenc1:amd64 (1:1.1.4-1build3) ...\n",
            "Setting up libcublaslt11:amd64 (11.7.4.6~11.5.1-1ubuntu1) ...\n",
            "Setting up libgles1:amd64 (1.4.0-1) ...\n",
            "Setting up libcupti11.5:amd64 (11.5.114~11.5.1-1ubuntu1) ...\n",
            "Setting up openjdk-8-jre-headless:amd64 (8u422-b05-1~22.04) ...\n",
            "update-alternatives: using /usr/lib/jvm/java-8-openjdk-amd64/jre/bin/orbd to provide /usr/bin/orbd (orbd) in auto mode\n",
            "update-alternatives: using /usr/lib/jvm/java-8-openjdk-amd64/jre/bin/servertool to provide /usr/bin/servertool (servertool) in auto mode\n",
            "update-alternatives: using /usr/lib/jvm/java-8-openjdk-amd64/jre/bin/tnameserv to provide /usr/bin/tnameserv (tnameserv) in auto mode\n",
            "Setting up libipt2 (2.0.5-1) ...\n",
            "Setting up fonts-dejavu-core (2.37-2build1) ...\n",
            "Setting up librsvg2-common:amd64 (2.52.5+dfsg-3ubuntu0.2) ...\n",
            "Setting up libbabeltrace1:amd64 (1.5.8-2build1) ...\n",
            "Setting up libnpps11:amd64 (11.5.1.107~11.5.1-1ubuntu1) ...\n",
            "Setting up libnppim11:amd64 (11.5.1.107~11.5.1-1ubuntu1) ...\n",
            "Setting up libcufft10:amd64 (11.1.1+~10.6.0.107~11.5.1-1ubuntu1) ...\n",
            "Setting up fonts-dejavu-extra (2.37-2build1) ...\n",
            "Setting up libnppitc11:amd64 (11.5.1.107~11.5.1-1ubuntu1) ...\n",
            "Setting up libnppist11:amd64 (11.5.1.107~11.5.1-1ubuntu1) ...\n",
            "Setting up libglx-dev:amd64 (1.4.0-1) ...\n",
            "Setting up libgtk2.0-common (2.24.33-2ubuntu2.1) ...\n",
            "Setting up libnvidia-compute-535:amd64 (535.183.06-0ubuntu1) ...\n",
            "Setting up libnvvm4:amd64 (11.5.119~11.5.1-1ubuntu1) ...\n",
            "Setting up libvdpau-dev:amd64 (1.4-3build2) ...\n",
            "Setting up libxkbfile1:amd64 (1:1.1.0-1build3) ...\n",
            "Setting up libnvtoolsext1:amd64 (11.5.114~11.5.1-1ubuntu1) ...\n",
            "Setting up libcub-dev (1.15.0-3) ...\n",
            "Setting up libopengl-dev:amd64 (1.4.0-1) ...\n",
            "Setting up nvidia-cuda-toolkit-doc (11.5.1-1ubuntu1) ...\n",
            "Setting up libaccinj64-11.5:amd64 (11.5.114~11.5.1-1ubuntu1) ...\n",
            "Setting up libnppig11:amd64 (11.5.1.107~11.5.1-1ubuntu1) ...\n",
            "Setting up libgl-dev:amd64 (1.4.0-1) ...\n",
            "Setting up libcurand10:amd64 (11.1.1+~10.2.7.107~11.5.1-1ubuntu1) ...\n",
            "Setting up libsource-highlight4v5 (3.1.9-4.1build2) ...\n",
            "Setting up libnvrtc-builtins11.5:amd64 (11.5.119~11.5.1-1ubuntu1) ...\n",
            "Setting up libnppidei11:amd64 (11.5.1.107~11.5.1-1ubuntu1) ...\n",
            "Setting up libthrust-dev (1.15.0-1) ...\n",
            "Setting up libnppial11:amd64 (11.5.1.107~11.5.1-1ubuntu1) ...\n",
            "Setting up libnppif11:amd64 (11.5.1.107~11.5.1-1ubuntu1) ...\n",
            "Setting up libcufftw10:amd64 (11.1.1+~10.6.0.107~11.5.1-1ubuntu1) ...\n",
            "Setting up libcublas11:amd64 (11.7.4.6~11.5.1-1ubuntu1) ...\n",
            "Setting up nvidia-cuda-gdb (11.5.114~11.5.1-1ubuntu1) ...\n",
            "Setting up libegl-dev:amd64 (1.4.0-1) ...\n",
            "Setting up libgtk2.0-0:amd64 (2.24.33-2ubuntu2.1) ...\n",
            "Setting up libnvidia-compute-510:amd64 (525.147.05-0ubuntu2.22.04.1) ...\n",
            "Setting up libcupti-dev:amd64 (11.5.114~11.5.1-1ubuntu1) ...\n",
            "Setting up libnvidia-compute-495:amd64 (510.108.03-0ubuntu0.22.04.1) ...\n",
            "Setting up libnvblas11:amd64 (11.7.4.6~11.5.1-1ubuntu1) ...\n",
            "Setting up libcusolver11:amd64 (11.3.2.107~11.5.1-1ubuntu1) ...\n",
            "Setting up libnvrtc11.2:amd64 (11.5.119~11.5.1-1ubuntu1) ...\n",
            "Setting up libcusolvermg11:amd64 (11.3.2.107~11.5.1-1ubuntu1) ...\n",
            "Setting up libgail18:amd64 (2.24.33-2ubuntu2.1) ...\n",
            "Setting up libgtk2.0-bin (2.24.33-2ubuntu2.1) ...\n",
            "Setting up x11-utils (7.7+5build2) ...\n",
            "Setting up libatk-wrapper-java (0.38.0-5build1) ...\n",
            "Setting up libgles-dev:amd64 (1.4.0-1) ...\n",
            "Setting up libcuinj64-11.5:amd64 (11.5.114~11.5.1-1ubuntu1) ...\n",
            "Setting up libnvidia-ml-dev:amd64 (11.5.50~11.5.1-1ubuntu1) ...\n",
            "Setting up libgail-common:amd64 (2.24.33-2ubuntu2.1) ...\n",
            "Setting up nvidia-cuda-dev:amd64 (11.5.1-1ubuntu1) ...\n",
            "Setting up libglvnd-dev:amd64 (1.4.0-1) ...\n",
            "Setting up libatk-wrapper-java-jni:amd64 (0.38.0-5build1) ...\n",
            "Setting up nvidia-profiler (11.5.114~11.5.1-1ubuntu1) ...\n",
            "Setting up nvidia-cuda-toolkit (11.5.1-1ubuntu1) ...\n",
            "Setting up libgl1-mesa-dev:amd64 (23.2.1-1ubuntu3.1~22.04.2) ...\n",
            "Setting up openjdk-8-jre:amd64 (8u422-b05-1~22.04) ...\n",
            "update-alternatives: using /usr/lib/jvm/java-8-openjdk-amd64/jre/bin/policytool to provide /usr/bin/policytool (policytool) in auto mode\n",
            "Setting up nvidia-visual-profiler (11.5.114~11.5.1-1ubuntu1) ...\n",
            "Processing triggers for libgdk-pixbuf-2.0-0:amd64 (2.42.8+dfsg-1ubuntu0.3) ...\n",
            "Processing triggers for fontconfig (2.13.1-4.2ubuntu5) ...\n",
            "Processing triggers for hicolor-icon-theme (0.17-2) ...\n",
            "Processing triggers for libc-bin (2.35-0ubuntu3.4) ...\n",
            "/sbin/ldconfig.real: /usr/local/lib/libur_adapter_level_zero.so.0 is not a symbolic link\n",
            "\n",
            "/sbin/ldconfig.real: /usr/local/lib/libtbb.so.12 is not a symbolic link\n",
            "\n",
            "/sbin/ldconfig.real: /usr/local/lib/libur_adapter_opencl.so.0 is not a symbolic link\n",
            "\n",
            "/sbin/ldconfig.real: /usr/local/lib/libtbbmalloc.so.2 is not a symbolic link\n",
            "\n",
            "/sbin/ldconfig.real: /usr/local/lib/libtbbmalloc_proxy.so.2 is not a symbolic link\n",
            "\n",
            "/sbin/ldconfig.real: /usr/local/lib/libtbbbind.so.3 is not a symbolic link\n",
            "\n",
            "/sbin/ldconfig.real: /usr/local/lib/libtbbbind_2_5.so.3 is not a symbolic link\n",
            "\n",
            "/sbin/ldconfig.real: /usr/local/lib/libur_loader.so.0 is not a symbolic link\n",
            "\n",
            "/sbin/ldconfig.real: /usr/local/lib/libtbbbind_2_0.so.3 is not a symbolic link\n",
            "\n",
            "Processing triggers for man-db (2.10.2-1) ...\n"
          ]
        }
      ]
    },
    {
      "cell_type": "code",
      "source": [
        "%%writefile ga_cuda.cu\n",
        "#include <iostream>\n",
        "#include <curand.h>\n",
        "#include <curand_kernel.h>\n",
        "#include <fstream>\n",
        "\n",
        "// Function to optimize (High-Dimensional Sphere Function)\n",
        "__device__ float fitness_function(float* individual, int dimensions) {\n",
        "    float fitness = 0.0f;\n",
        "    for (int i = 0; i < dimensions; ++i) {\n",
        "        fitness += individual[i] * individual[i];  // Example: Sphere function\n",
        "    }\n",
        "    return fitness;\n",
        "}\n",
        "\n",
        "// CUDA kernel to evaluate the fitness of each individual in the population\n",
        "__global__ void evaluate_population(float* population, float* fitness_values, int population_size, int dimensions) {\n",
        "    __shared__ float shared_population[512][100]; // Shared memory to hold individuals\n",
        "\n",
        "    int idx = blockIdx.x * blockDim.x + threadIdx.x;\n",
        "\n",
        "    // Load data into shared memory\n",
        "    if (idx < population_size) {\n",
        "        for (int i = 0; i < dimensions; ++i) {\n",
        "            shared_population[threadIdx.x][i] = population[idx * dimensions + i];\n",
        "        }\n",
        "        __syncthreads(); // Wait for all threads to load\n",
        "\n",
        "        // Calculate fitness using shared memory\n",
        "        fitness_values[idx] = fitness_function(shared_population[threadIdx.x], dimensions);\n",
        "    }\n",
        "}\n",
        "\n",
        "// CUDA kernel for crossover\n",
        "__global__ void crossover(float* population, float* new_population, int population_size, int dimensions, float crossover_rate, curandState* rand_states) {\n",
        "    int idx = blockIdx.x * blockDim.x + threadIdx.x;\n",
        "    if (idx < population_size) {\n",
        "        int parent1_idx = idx * 2;\n",
        "        int parent2_idx = parent1_idx + 1;\n",
        "\n",
        "        for (int i = 0; i < dimensions; ++i) {\n",
        "            float r = curand_uniform(&rand_states[idx]);\n",
        "            if (r < crossover_rate) {\n",
        "                new_population[idx * dimensions + i] = 0.5f * (population[parent1_idx * dimensions + i] + population[parent2_idx * dimensions + i]);\n",
        "            } else {\n",
        "                new_population[idx * dimensions + i] = population[parent1_idx * dimensions + i];\n",
        "            }\n",
        "        }\n",
        "    }\n",
        "}\n",
        "\n",
        "// CUDA kernel for mutation\n",
        "__global__ void mutate(float* population, int population_size, int dimensions, float mutation_rate, curandState* rand_states) {\n",
        "    int idx = blockIdx.x * blockDim.x + threadIdx.x;\n",
        "    if (idx < population_size) {\n",
        "        for (int i = 0; i < dimensions; ++i) {\n",
        "            float r = curand_uniform(&rand_states[idx]);\n",
        "            if (r < mutation_rate) {\n",
        "                population[idx * dimensions + i] += curand_normal(&rand_states[idx]) * 0.1f;\n",
        "            }\n",
        "        }\n",
        "    }\n",
        "}\n",
        "\n",
        "// CUDA kernel to initialize random states\n",
        "__global__ void init_rand_states(curandState* rand_states, int population_size, unsigned long seed) {\n",
        "    int idx = blockIdx.x * blockDim.x + threadIdx.x;\n",
        "    if (idx < population_size) {\n",
        "        curand_init(seed, idx, 0, &rand_states[idx]);\n",
        "    }\n",
        "}\n",
        "\n",
        "int main() {\n",
        "    const int population_size = 1024;\n",
        "    const int dimensions = 100;  // High-dimensional space\n",
        "    const int generations = 1000;\n",
        "    const float crossover_rate = 0.7f;\n",
        "    const float mutation_rate = 0.01f;\n",
        "\n",
        "    // Allocate memory for the population and fitness values\n",
        "    float* population;\n",
        "    float* new_population;\n",
        "    float* fitness_values;\n",
        "    curandState* rand_states;\n",
        "\n",
        "    cudaMalloc(&population, population_size * dimensions * sizeof(float));\n",
        "    cudaMalloc(&new_population, population_size * dimensions * sizeof(float));\n",
        "    cudaMalloc(&fitness_values, population_size * sizeof(float));\n",
        "    cudaMalloc(&rand_states, population_size * sizeof(curandState));\n",
        "\n",
        "    // Initialize random states for CUDA\n",
        "    init_rand_states<<<(population_size + 255) / 256, 256>>>(rand_states, population_size, time(0));\n",
        "\n",
        "    // Open file to save fitness values in CSV format\n",
        "    std::ofstream fitnessFile(\"/content/fitness_values.csv\");\n",
        "    fitnessFile << \"Generation,Best Fitness\\n\"; // CSV header\n",
        "\n",
        "    // Main Genetic Algorithm loop\n",
        "    for (int gen = 0; gen < generations; ++gen) {\n",
        "        // Evaluate the fitness of the population\n",
        "        evaluate_population<<<(population_size + 255) / 256, 256>>>(population, fitness_values, population_size, dimensions);\n",
        "        cudaDeviceSynchronize();\n",
        "\n",
        "        // Perform crossover\n",
        "        crossover<<<(population_size + 255) / 256, 256>>>(population, new_population, population_size / 2, dimensions, crossover_rate, rand_states);\n",
        "        cudaDeviceSynchronize();\n",
        "\n",
        "        // Mutate the new population\n",
        "        mutate<<<(population_size + 255) / 256, 256>>>(new_population, population_size, dimensions, mutation_rate, rand_states);\n",
        "        cudaDeviceSynchronize();\n",
        "\n",
        "        // Write the best fitness to the file\n",
        "        float best_fitness = INFINITY;\n",
        "        float* h_fitness_values = new float[population_size];\n",
        "        cudaMemcpy(h_fitness_values, fitness_values, population_size * sizeof(float), cudaMemcpyDeviceToHost);\n",
        "\n",
        "        for (int i = 0; i < population_size; ++i) {\n",
        "            if (h_fitness_values[i] < best_fitness) {\n",
        "                best_fitness = h_fitness_values[i];\n",
        "            }\n",
        "        }\n",
        "\n",
        "        fitnessFile << gen << \",\" << best_fitness << \"\\n\"; // Write generation and best fitness\n",
        "        delete[] h_fitness_values;\n",
        "\n",
        "        // Swap populations\n",
        "        std::swap(population, new_population);\n",
        "    }\n",
        "\n",
        "    // Cleanup\n",
        "    fitnessFile.close();\n",
        "    cudaFree(population);\n",
        "    cudaFree(new_population);\n",
        "    cudaFree(fitness_values);\n",
        "    cudaFree(rand_states);\n",
        "\n",
        "    return 0;\n",
        "}\n"
      ],
      "metadata": {
        "colab": {
          "base_uri": "https://localhost:8080/"
        },
        "id": "bqIBSPUj6xjr",
        "outputId": "f2091bae-029b-4033-d976-6dc17a60d2e0"
      },
      "execution_count": 52,
      "outputs": [
        {
          "output_type": "stream",
          "name": "stdout",
          "text": [
            "Overwriting ga_cuda.cu\n"
          ]
        }
      ]
    },
    {
      "cell_type": "code",
      "source": [
        "!nvcc ga_cuda.cu -o ga_cuda\n"
      ],
      "metadata": {
        "colab": {
          "base_uri": "https://localhost:8080/"
        },
        "id": "gIQxMlEp62id",
        "outputId": "215d3914-cb6e-4c71-84e5-449832802d3d"
      },
      "execution_count": 53,
      "outputs": [
        {
          "output_type": "stream",
          "name": "stdout",
          "text": [
            "ptxas error   : Entry function '_Z19evaluate_populationPfS_ii' uses too much shared data (0x32000 bytes, 0xc000 max)\n"
          ]
        }
      ]
    },
    {
      "cell_type": "code",
      "source": [
        "!./ga_cuda\n"
      ],
      "metadata": {
        "id": "1qWbaF1566xU"
      },
      "execution_count": 54,
      "outputs": []
    },
    {
      "cell_type": "code",
      "source": [
        "!ls /content/\n"
      ],
      "metadata": {
        "colab": {
          "base_uri": "https://localhost:8080/"
        },
        "id": "TRAJes2m691X",
        "outputId": "fa53284e-6bca-46b0-af34-6e769fbe5837"
      },
      "execution_count": 55,
      "outputs": [
        {
          "output_type": "stream",
          "name": "stdout",
          "text": [
            "drive  fitness_values.csv  ga_cuda  ga_cuda.cu\tsample_data\n"
          ]
        }
      ]
    },
    {
      "cell_type": "code",
      "source": [
        "import pandas as pd\n",
        "\n",
        "fitness_data = pd.read_csv('/content/fitness_values.csv')\n",
        "print(fitness_data.head())\n"
      ],
      "metadata": {
        "colab": {
          "base_uri": "https://localhost:8080/"
        },
        "id": "_hWkQTta7DGj",
        "outputId": "822b3d7f-394a-4abf-fb70-1cbe9a197231"
      },
      "execution_count": 56,
      "outputs": [
        {
          "output_type": "stream",
          "name": "stdout",
          "text": [
            "   Generation  Best Fitness\n",
            "0           0           0.0\n",
            "1           1           0.0\n",
            "2           2           0.0\n",
            "3           3           0.0\n",
            "4           4           0.0\n"
          ]
        }
      ]
    },
    {
      "cell_type": "code",
      "source": [
        "import matplotlib.pyplot as plt\n",
        "import pandas as pd\n",
        "\n",
        "# Load fitness values from the CSV file\n",
        "file_path = '/content/drive/MyDrive/CUDA_GA_Project/fitness_values.csv'\n",
        "data = pd.read_csv(file_path)\n",
        "\n",
        "# Extract generations and best fitness values\n",
        "generations = data['Generation']\n",
        "best_fitness_values = data['Best Fitness']\n",
        "\n",
        "# Plotting\n",
        "plt.plot(generations, best_fitness_values)\n",
        "plt.xlabel(\"Generations\")\n",
        "plt.ylabel(\"Best Fitness\")\n",
        "plt.title(\"Best Fitness Over Generations\")\n",
        "plt.grid(True)\n",
        "plt.show()\n"
      ],
      "metadata": {
        "colab": {
          "base_uri": "https://localhost:8080/",
          "height": 472
        },
        "id": "s3YkFUet79IJ",
        "outputId": "fdeecefa-d3af-4f32-a380-2b0dad853014"
      },
      "execution_count": 59,
      "outputs": [
        {
          "output_type": "display_data",
          "data": {
            "text/plain": [
              "<Figure size 640x480 with 1 Axes>"
            ],
            "image/png": "[encoded data removed]"
          },
          "metadata": {}
        }
      ]
    },
    {
      "cell_type": "code",
      "source": [
        "!pip install pandas\n"
      ],
      "metadata": {
        "colab": {
          "base_uri": "https://localhost:8080/"
        },
        "id": "53TXv5Ee8gf3",
        "outputId": "731cb78e-5c4e-4bd3-b756-2245215ec380"
      },
      "execution_count": 60,
      "outputs": [
        {
          "output_type": "stream",
          "name": "stdout",
          "text": [
            "Requirement already satisfied: pandas in /usr/local/lib/python3.10/dist-packages (2.1.4)\n",
            "Requirement already satisfied: numpy<2,>=1.22.4 in /usr/local/lib/python3.10/dist-packages (from pandas) (1.26.4)\n",
            "Requirement already satisfied: python-dateutil>=2.8.2 in /usr/local/lib/python3.10/dist-packages (from pandas) (2.8.2)\n",
            "Requirement already satisfied: pytz>=2020.1 in /usr/local/lib/python3.10/dist-packages (from pandas) (2024.2)\n",
            "Requirement already satisfied: tzdata>=2022.1 in /usr/local/lib/python3.10/dist-packages (from pandas) (2024.1)\n",
            "Requirement already satisfied: six>=1.5 in /usr/local/lib/python3.10/dist-packages (from python-dateutil>=2.8.2->pandas) (1.16.0)\n"
          ]
        }
      ]
    },
    {
      "cell_type": "code",
      "source": [
        "%%writefile ga_cuda.cu\n",
        "#include <iostream>\n",
        "#include <curand.h>\n",
        "#include <curand_kernel.h>\n",
        "#include <fstream>\n",
        "\n",
        "// Function to optimize (High-Dimensional Sphere Function)\n",
        "__device__ float fitness_function(float* individual, int dimensions) {\n",
        "    float fitness = 0.0f;\n",
        "    for (int i = 0; i < dimensions; ++i) {\n",
        "        fitness += individual[i] * individual[i];  // Example: Sphere function\n",
        "    }\n",
        "    return fitness;\n",
        "}\n",
        "\n",
        "// CUDA kernel to evaluate the fitness of each individual in the population\n",
        "__global__ void evaluate_population(float* population, float* fitness_values, int population_size, int dimensions) {\n",
        "    int idx = blockIdx.x * blockDim.x + threadIdx.x;\n",
        "    if (idx < population_size) {\n",
        "        fitness_values[idx] = fitness_function(&population[idx * dimensions], dimensions);\n",
        "    }\n",
        "}\n",
        "\n",
        "// CUDA kernel for crossover\n",
        "__global__ void crossover(float* population, float* new_population, int population_size, int dimensions, float crossover_rate, curandState* rand_states) {\n",
        "    int idx = blockIdx.x * blockDim.x + threadIdx.x;\n",
        "    if (idx < population_size) {\n",
        "        int parent1_idx = idx * 2;\n",
        "        int parent2_idx = parent1_idx + 1;\n",
        "\n",
        "        for (int i = 0; i < dimensions; ++i) {\n",
        "            float r = curand_uniform(&rand_states[idx]);\n",
        "            if (r < crossover_rate) {\n",
        "                new_population[idx * dimensions + i] = 0.5f * (population[parent1_idx * dimensions + i] + population[parent2_idx * dimensions + i]);\n",
        "            } else {\n",
        "                new_population[idx * dimensions + i] = population[parent1_idx * dimensions + i];\n",
        "            }\n",
        "        }\n",
        "    }\n",
        "}\n",
        "\n",
        "// CUDA kernel for mutation\n",
        "__global__ void mutate(float* population, int population_size, int dimensions, float mutation_rate, curandState* rand_states) {\n",
        "    int idx = blockIdx.x * blockDim.x + threadIdx.x;\n",
        "    if (idx < population_size) {\n",
        "        for (int i = 0; i < dimensions; ++i) {\n",
        "            float r = curand_uniform(&rand_states[idx]);\n",
        "            if (r < mutation_rate) {\n",
        "                population[idx * dimensions + i] += curand_normal(&rand_states[idx]) * 0.1f;\n",
        "            }\n",
        "        }\n",
        "    }\n",
        "}\n",
        "\n",
        "// CUDA kernel to initialize random states\n",
        "__global__ void init_rand_states(curandState* rand_states, int population_size, unsigned long seed) {\n",
        "    int idx = blockIdx.x * blockDim.x + threadIdx.x;\n",
        "    if (idx < population_size) {\n",
        "        curand_init(seed, idx, 0, &rand_states[idx]);\n",
        "    }\n",
        "}\n",
        "\n",
        "int main() {\n",
        "     // Adjusted parameters\n",
        "    const int population_size = 2048; // Increased population size\n",
        "    const int dimensions = 100;        // Number of dimensions (remains unchanged)\n",
        "    const int generations = 1500;      // Increased generations for longer runtime\n",
        "    const float crossover_rate = 0.8f; // Increased crossover rate\n",
        "    const float mutation_rate = 0.02f; // Slightly increased mutation rate\n",
        "\n",
        "    // Allocate memory for the population and fitness values\n",
        "    float* population;\n",
        "    float* new_population;\n",
        "    float* fitness_values;\n",
        "    curandState* rand_states;\n",
        "\n",
        "    cudaMalloc(&population, population_size * dimensions * sizeof(float));\n",
        "    cudaMalloc(&new_population, population_size * dimensions * sizeof(float));\n",
        "    cudaMalloc(&fitness_values, population_size * sizeof(float));\n",
        "    cudaMalloc(&rand_states, population_size * sizeof(curandState));\n",
        "\n",
        "    // Initialize random states for CUDA\n",
        "    init_rand_states<<<(population_size + 255) / 256, 256>>>(rand_states, population_size, time(0));\n",
        "\n",
        "    // Open file to save fitness values in CSV format\n",
        "    std::ofstream fitnessFile(\"/content/fitness_values.csv\");\n",
        "    fitnessFile << \"Generation,Best Fitness\\n\"; // CSV header\n",
        "\n",
        "    // Main Genetic Algorithm loop\n",
        "    for (int gen = 0; gen < generations; ++gen) {\n",
        "        // Evaluate the fitness of the population\n",
        "        evaluate_population<<<(population_size + 255) / 256, 256>>>(population, fitness_values, population_size, dimensions);\n",
        "        cudaDeviceSynchronize();\n",
        "\n",
        "        // Perform crossover\n",
        "        crossover<<<(population_size + 255) / 256, 256>>>(population, new_population, population_size / 2, dimensions, crossover_rate, rand_states);\n",
        "        cudaDeviceSynchronize();\n",
        "\n",
        "        // Mutate the new population\n",
        "        mutate<<<(population_size + 255) / 256, 256>>>(new_population, population_size, dimensions, mutation_rate, rand_states);\n",
        "        cudaDeviceSynchronize();\n",
        "\n",
        "        // Write the best fitness to the file\n",
        "        float best_fitness = INFINITY;\n",
        "        float* h_fitness_values = new float[population_size];\n",
        "        cudaMemcpy(h_fitness_values, fitness_values, population_size * sizeof(float), cudaMemcpyDeviceToHost);\n",
        "\n",
        "        for (int i = 0; i < population_size; ++i) {\n",
        "            if (h_fitness_values[i] < best_fitness) {\n",
        "                best_fitness = h_fitness_values[i];\n",
        "            }\n",
        "        }\n",
        "\n",
        "        fitnessFile << gen << \",\" << best_fitness << \"\\n\"; // Write generation and best fitness\n",
        "        delete[] h_fitness_values;\n",
        "\n",
        "        // Swap populations\n",
        "        std::swap(population, new_population);\n",
        "    }\n",
        "\n",
        "    // Cleanup\n",
        "    fitnessFile.close();\n",
        "    cudaFree(population);\n",
        "    cudaFree(new_population);\n",
        "    cudaFree(fitness_values);\n",
        "    cudaFree(rand_states);\n",
        "\n",
        "    return 0;\n",
        "}\n"
      ],
      "metadata": {
        "colab": {
          "base_uri": "https://localhost:8080/"
        },
        "id": "Ro9wysMS-MJG",
        "outputId": "52ee9cbf-d422-4075-a78a-d392e34e2c21"
      },
      "execution_count": 64,
      "outputs": [
        {
          "output_type": "stream",
          "name": "stdout",
          "text": [
            "Overwriting ga_cuda.cu\n"
          ]
        }
      ]
    },
    {
      "cell_type": "code",
      "source": [
        "!nvcc ga_cuda.cu -o ga_cuda"
      ],
      "metadata": {
        "id": "-Hna7tXI-WCY"
      },
      "execution_count": 65,
      "outputs": []
    },
    {
      "cell_type": "code",
      "source": [
        "!./ga_cuda\n",
        "!ls /content/\n"
      ],
      "metadata": {
        "colab": {
          "base_uri": "https://localhost:8080/"
        },
        "id": "0QNNwvSP_IcW",
        "outputId": "bb027a4a-e56e-488b-dd5d-6c5b4f7ebccf"
      },
      "execution_count": 66,
      "outputs": [
        {
          "output_type": "stream",
          "name": "stdout",
          "text": [
            "drive  fitness_values.csv  ga_cuda  ga_cuda.cu\tsample_data\n"
          ]
        }
      ]
    },
    {
      "cell_type": "code",
      "source": [
        "import pandas as pd"
      ],
      "metadata": {
        "id": "_4OtkO96_QTU"
      },
      "execution_count": 67,
      "outputs": []
    },
    {
      "cell_type": "code",
      "source": [
        "fitness_data = pd.read_csv('/content/fitness_values.csv')\n",
        "print(fitness_data.head())"
      ],
      "metadata": {
        "colab": {
          "base_uri": "https://localhost:8080/"
        },
        "id": "O9QLOsK9_TFt",
        "outputId": "21045e19-60c4-4d5a-86ee-37be4faee280"
      },
      "execution_count": 68,
      "outputs": [
        {
          "output_type": "stream",
          "name": "stdout",
          "text": [
            "   Generation  Best Fitness\n",
            "0           0           0.0\n",
            "1           1           0.0\n",
            "2           2           0.0\n",
            "3           3           0.0\n",
            "4           4           0.0\n"
          ]
        }
      ]
    },
    {
      "cell_type": "code",
      "source": [
        "import matplotlib.pyplot as plt\n",
        "import pandas as pd\n",
        "\n",
        "\n",
        "\n",
        "# Load fitness values from the CSV file\n",
        "file_path = '/content/drive/MyDrive/CUDA_GA_Project/fitness_values.csv'\n",
        "data = pd.read_csv(file_path)\n",
        "\n",
        "# Extract generations and best fitness values\n",
        "generations = data['Generation']\n",
        "best_fitness_values = data['Best Fitness']\n",
        "\n",
        "# Plotting\n",
        "plt.plot(generations, best_fitness_values)\n",
        "plt.xlabel(\"Generations\")\n",
        "plt.ylabel(\"Best Fitness\")\n",
        "plt.title(\"Best Fitness Over Generations\")\n",
        "plt.grid(True)\n",
        "plt.show()"
      ],
      "metadata": {
        "colab": {
          "base_uri": "https://localhost:8080/",
          "height": 472
        },
        "id": "7wxxkpw5_YNU",
        "outputId": "8826e6a8-517f-4a16-a604-7b9acfeb60c5"
      },
      "execution_count": 69,
      "outputs": [
        {
          "output_type": "display_data",
          "data": {
            "text/plain": [
              "<Figure size 640x480 with 1 Axes>"
            ],
            "image/png": "[encoded data removed]"
          },
          "metadata": {}
        }
      ]
    },
    {
      "cell_type": "code",
      "source": [
        "Comparison of Original and Adjusted Results\n",
        "Trend Analysis:\n",
        "\n",
        "Original Results: The fitness values appear to increase over generations, suggesting that the algorithm is finding better solutions over time. However, there is significant fluctuation in the fitness values, indicating a lot of variability and potentially slow convergence towards optimal solutions.\n",
        "Adjusted Results: Similar to the original results, the fitness values increase over generations, but the fluctuations seem less pronounced. This might indicate that the adjustments have contributed to smoother convergence towards optimal solutions.\n",
        "Convergence:\n",
        "\n",
        "Original Results: The convergence is somewhat erratic, with peaks and troughs in fitness that suggest instability in the population.\n",
        "Adjusted Results: The adjusted results seem to show a more stable progression towards better fitness values. This can be an indicator of improved convergence due to the parameter adjustments.\n",
        "Fitness Value Ranges:\n",
        "\n",
        "Both graphs exhibit fitness values starting from near 0 and increasing, but the adjusted results may be limited to a smaller range of higher values compared to the original. This implies that the adjusted parameters might help focus the search in promising areas of the solution space.\n",
        "Insights:\n",
        "\n",
        "Parameter Tuning Impact: The adjustments made (e.g., changing population size, mutation rate, etc.) appear to have positively influenced the algorithm’s performance.\n",
        "Further Adjustments Needed: Although the adjusted results are more stable, they still exhibit some fluctuations, suggesting there may be further room for improvement in tuning the parameters.\n",
        "Next Steps for Reevaluation\n",
        "After adjusting parameters, you should:\n",
        "\n",
        "Run the Algorithm Again: Execute the genetic algorithm with the new parameters for a set number of generations (e.g., 1000).\n",
        "\n",
        "Collect Data: Gather the fitness values as you did previously, ensuring you log them appropriately for analysis.\n",
        "\n",
        "Visualize Results: Generate a new plot similar to what you did before to compare fitness progression over generations.\n",
        "\n",
        "Analyze: Use the insights gained from visual comparison (like the one above) to decide if further adjustments are necessary or if the current parameters yield satisfactory results.\n",
        "\n",
        "Parameter Grid Search: Consider implementing a systematic approach to explore different combinations of parameters (like population size, crossover rate, and mutation rate) to find optimal settings that enhance convergence further.\n",
        "\n",
        "This iterative process of adjustment and evaluation can lead to increasingly better performance of the genetic algorithm"
      ],
      "metadata": {
        "id": "OGjJFoPX_c6R"
      },
      "execution_count": null,
      "outputs": []
    }
  ],
  "metadata": {
    "accelerator": "GPU",
    "colab": {
      "gpuType": "T4",
      "provenance": [],
      "authorship_tag": "ABX9TyOkiYfkRazwfv6Ube/zx/8w",
      "include_colab_link": true
    },
    "kernelspec": {
      "display_name": "Python 3",
      "name": "python3"
    },
    "language_info": {
      "name": "python"
    }
  },
  "nbformat": 4,
  "nbformat_minor": 0
}